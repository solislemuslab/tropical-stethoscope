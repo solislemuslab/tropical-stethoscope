{
  "nbformat": 4,
  "nbformat_minor": 0,
  "metadata": {
    "colab": {
      "name": "classification.ipynb",
      "provenance": [],
      "collapsed_sections": [
        "1CdE_YFPIMP3",
        "w8CrxhnkVDN1",
        "L_mIU5MhrOjE"
      ],
      "toc_visible": true
    },
    "kernelspec": {
      "name": "python3",
      "display_name": "Python 3"
    },
    "accelerator": "GPU"
  },
  "cells": [
    {
      "cell_type": "code",
      "metadata": {
        "id": "S_IlT3rGnnrn",
        "colab_type": "code",
        "outputId": "8ed4d224-7922-4641-d678-ab379db6d2ed",
        "colab": {
          "base_uri": "https://localhost:8080/",
          "height": 54
        }
      },
      "source": [
        "%tensorflow_version 1.x\n",
        "import pandas as pd\n",
        "import os\n",
        "import h5py\n",
        "import random\n",
        "import datetime\n",
        "import numpy as np\n",
        "import pandas as pd\n",
        "from google.colab import drive\n",
        "import matplotlib.pyplot as plt\n",
        "import keras\n",
        "from keras.optimizers import Adam\n",
        "from keras.applications import VGG19\n",
        "from keras.utils import to_categorical, plot_model\n",
        "from tensorflow.keras.callbacks import TensorBoard\n",
        "from keras.models import Model, Sequential, load_model\n",
        "from keras.callbacks import EarlyStopping, ModelCheckpoint\n",
        "from keras.layers import Dense, Activation, Flatten, Dropout, Input, concatenate\n",
        "from sklearn.metrics import classification_report, confusion_matrix\n",
        "from sklearn.model_selection import train_test_split"
      ],
      "execution_count": 0,
      "outputs": [
        {
          "output_type": "stream",
          "text": [
            "TensorFlow 1.x selected.\n"
          ],
          "name": "stdout"
        },
        {
          "output_type": "stream",
          "text": [
            "Using TensorFlow backend.\n"
          ],
          "name": "stderr"
        }
      ]
    },
    {
      "cell_type": "code",
      "metadata": {
        "id": "_7m2lg0UnxA8",
        "colab_type": "code",
        "outputId": "ceb3753a-9f54-4796-e3f2-303897b29666",
        "colab": {
          "base_uri": "https://localhost:8080/",
          "height": 55
        }
      },
      "source": [
        "drive.mount('/content/drive')\n",
        "os.chdir('/content/drive/')"
      ],
      "execution_count": 0,
      "outputs": [
        {
          "output_type": "stream",
          "text": [
            "Drive already mounted at /content/drive; to attempt to forcibly remount, call drive.mount(\"/content/drive\", force_remount=True).\n"
          ],
          "name": "stdout"
        }
      ]
    },
    {
      "cell_type": "markdown",
      "metadata": {
        "id": "X_68PcQtuMuk",
        "colab_type": "text"
      },
      "source": [
        "#Read the dataset and preprocess"
      ]
    },
    {
      "cell_type": "code",
      "metadata": {
        "id": "gtDaAT-SuMRv",
        "colab_type": "code",
        "colab": {}
      },
      "source": [
        "# f =  h5py.File('My Drive/Stethoscope/13A_data.hdf5', \"r+\")\n",
        "\n",
        "# specs = np.array(f[\"specs\"]).astype(\"float32\")\n",
        "# sonotypes = np.array(f[\"sonotypes\"])\n",
        "# times = np.array(f[\"times\"]).astype(\"float32\")\n",
        "# freqs = np.array(f[\"freqs\"]).astype(\"float32\")\n",
        "\n",
        "# f.close()"
      ],
      "execution_count": 0,
      "outputs": []
    },
    {
      "cell_type": "markdown",
      "metadata": {
        "id": "1CdE_YFPIMP3",
        "colab_type": "text"
      },
      "source": [
        "## By groups"
      ]
    },
    {
      "cell_type": "code",
      "metadata": {
        "id": "l40ww_vcMsN2",
        "colab_type": "code",
        "colab": {}
      },
      "source": [
        "f =  h5py.File('My Drive/Stethoscope/data_group.hdf5', \"r+\")\n",
        "\n",
        "specs_h5 = np.array(f[\"specs\"]).astype(\"float32\")\n",
        "sonotypes_h5 = np.array(f[\"groups\"])\n",
        "times_h5 = np.array(f[\"times\"]).astype(\"float32\")\n",
        "freqs_h5 = np.array(f[\"freqs\"]).astype(\"float32\")\n",
        "\n",
        "f.close()"
      ],
      "execution_count": 0,
      "outputs": []
    },
    {
      "cell_type": "code",
      "metadata": {
        "id": "FvAu65o_aaJI",
        "colab_type": "code",
        "outputId": "5b3b8ebe-5183-4030-da96-f1d721e9fa8b",
        "colab": {
          "base_uri": "https://localhost:8080/",
          "height": 54
        }
      },
      "source": [
        "# append x_times an x_freqs to be auxiliary_input\n",
        "aux_input_h5 = np.append(times_h5,freqs_h5, axis = 1)\n",
        "\n",
        "\n",
        "print(aux_input_h5.shape)\n",
        "print(aux_input_h5[10])"
      ],
      "execution_count": 0,
      "outputs": [
        {
          "output_type": "stream",
          "text": [
            "(2881, 4)\n",
            "[22293.    22321.469  7993.379  8626.394]\n"
          ],
          "name": "stdout"
        }
      ]
    },
    {
      "cell_type": "code",
      "metadata": {
        "id": "HmYSUydLn-pi",
        "colab_type": "code",
        "outputId": "c1ca769d-0e95-4a57-8d29-da983142d834",
        "colab": {
          "base_uri": "https://localhost:8080/",
          "height": 108
        }
      },
      "source": [
        "# use only \"b\" and \"i\"\n",
        "index_b = np.argwhere(sonotypes_h5 == b'b').flatten()\n",
        "index_i = np.argwhere(sonotypes_h5 == b'i').flatten()\n",
        "\n",
        "print(\"number of data in group i: %i\" % len(index_i))\n",
        "\n",
        "# randomly choose index in b \n",
        "# to ensure we have same number of type b and i\n",
        "random.shuffle(index_b)\n",
        "index_b_resized = index_b[:len(index_i)]\n",
        "print(\"number of data in group b after resizing: %i\" % len(index_b_resized))\n",
        "\n",
        "# get the data of b and i\n",
        "specs_b = specs_h5[index_b_resized]\n",
        "specs_i = specs_h5[index_i]\n",
        "aux_input_b = aux_input_h5[index_b_resized]\n",
        "aux_input_i = aux_input_h5[index_i]\n",
        "\n",
        "# print(index_b_resized[1])\n",
        "# print(times_b[1])\n",
        "# print(times[index_b_resized[1]])\n",
        "\n",
        "# put them together\n",
        "specs = np.append(specs_b, specs_i, axis = 0)\n",
        "aux_input = np.append(aux_input_b, aux_input_i, axis= 0)\n",
        "sonotypes = np.append(np.repeat(b'b', len(index_i)), np.repeat(b'i', len(index_i)))\n",
        "\n",
        "print(specs.shape)\n",
        "print(aux_input.shape)\n",
        "print(sonotypes)"
      ],
      "execution_count": 0,
      "outputs": [
        {
          "output_type": "stream",
          "text": [
            "number of data in group i: 1021\n",
            "number of data in group b after resizing: 1021\n",
            "(2042, 224, 224, 3)\n",
            "(2042, 4)\n",
            "[b'b' b'b' b'b' ... b'i' b'i' b'i']\n"
          ],
          "name": "stdout"
        }
      ]
    },
    {
      "cell_type": "code",
      "metadata": {
        "id": "hrGEDNV5zt_L",
        "colab_type": "code",
        "outputId": "0ae4baa4-31b3-4d0f-ad63-9aece2c33212",
        "colab": {
          "base_uri": "https://localhost:8080/",
          "height": 287
        }
      },
      "source": [
        "plt.imshow(x_train[190])\n",
        "plt.show()"
      ],
      "execution_count": 0,
      "outputs": [
        {
          "output_type": "stream",
          "text": [
            "Clipping input data to the valid range for imshow with RGB data ([0..1] for floats or [0..255] for integers).\n"
          ],
          "name": "stderr"
        },
        {
          "output_type": "display_data",
          "data": {
            "image/png": "[encoded data removed]",
            "text/plain": [
              "<Figure size 432x288 with 1 Axes>"
            ]
          },
          "metadata": {
            "tags": [],
            "needs_background": "light"
          }
        }
      ]
    },
    {
      "cell_type": "markdown",
      "metadata": {
        "id": "HqefOrdcITGp",
        "colab_type": "text"
      },
      "source": [
        "## By top k\n"
      ]
    },
    {
      "cell_type": "code",
      "metadata": {
        "id": "HZud_U8FIkYy",
        "colab_type": "code",
        "colab": {}
      },
      "source": [
        "f =  h5py.File('My Drive/Stethoscope/whole_data.hdf5', \"r+\")\n",
        "\n",
        "specs_h5 = np.array(f[\"specs\"]).astype(\"float32\")\n",
        "sonotypes_h5 = np.array(f[\"sonotypes\"])\n",
        "times_h5 = np.array(f[\"times\"]).astype(\"float32\")\n",
        "freqs_h5 = np.array(f[\"freqs\"]).astype(\"float32\")\n",
        "# groups_h5 = np.array(f[\"groups\"])\n",
        "\n",
        "f.close()"
      ],
      "execution_count": 0,
      "outputs": []
    },
    {
      "cell_type": "code",
      "metadata": {
        "id": "5eGypn-hOOhm",
        "colab_type": "code",
        "outputId": "63ff276a-295d-4114-8cda-008fc3953a5f",
        "colab": {
          "base_uri": "https://localhost:8080/",
          "height": 54
        }
      },
      "source": [
        "# append x_times an x_freqs to be auxiliary_input\n",
        "aux_input_h5 = np.append(times_h5,freqs_h5, axis = 1)\n",
        "\n",
        "print(aux_input_h5.shape)\n",
        "print(aux_input_h5[10])"
      ],
      "execution_count": 0,
      "outputs": [
        {
          "output_type": "stream",
          "text": [
            "(2881, 4)\n",
            "[22293.    22321.469  7993.379  8626.394]\n"
          ],
          "name": "stdout"
        }
      ]
    },
    {
      "cell_type": "code",
      "metadata": {
        "id": "bMooWTWOIxOi",
        "colab_type": "code",
        "outputId": "02ac34be-8319-4718-d260-c01ffb44f0d2",
        "colab": {
          "base_uri": "https://localhost:8080/",
          "height": 54
        }
      },
      "source": [
        "# create the dictionary for sonotypes and groups\n",
        "sono2group = dict(zip(sonotypes_h5,groups_h5))\n",
        "\n",
        "# get the data for top k sonotypes\n",
        "s_unique, s_freq = np.unique(sonotypes_h5,return_counts=True)\n",
        "s_freq_order = np.argsort(s_freq)[::-1]\n",
        "s_freq_desc = s_freq[s_freq_order]\n",
        "\n",
        "print(s_unique[s_freq_order][:10])\n",
        "print(s_freq_desc[:10])"
      ],
      "execution_count": 0,
      "outputs": [
        {
          "output_type": "stream",
          "text": [
            "[ 52. 138.  25. 463. 236.   1.  86. 139. 220.  90.]\n",
            "[142 120 113  92  72  69  57  45  43  40]\n"
          ],
          "name": "stdout"
        }
      ]
    },
    {
      "cell_type": "markdown",
      "metadata": {
        "id": "LMDMPTAdU9HQ",
        "colab_type": "text"
      },
      "source": [
        "##### use a balanced set of input\n"
      ]
    },
    {
      "cell_type": "code",
      "metadata": {
        "id": "hgGaHs0yoT-5",
        "colab_type": "code",
        "outputId": "fbfb58cf-c027-4bcd-9920-246b9fbf840c",
        "colab": {
          "base_uri": "https://localhost:8080/",
          "height": 90
        }
      },
      "source": [
        "numUsed =2\n",
        "groupUsed = b'b' # use bird for now\n",
        "typeUsed = []\n",
        "min_num = 1000\n",
        "\n",
        "typeUsed=[52,138]\n",
        "min_num = 120\n",
        "# index = 0\n",
        "# while len(typeUsed) < numUsed:\n",
        "#   cur_type = s_unique[s_freq_order][index]\n",
        "#   if sono2group[cur_type] == groupUsed:\n",
        "#     typeUsed.append(cur_type)\n",
        "#     if s_freq_desc[index] < min_num:\n",
        "#       min_num = s_freq_desc[index]\n",
        "#   index += 1\n",
        "\n",
        "print(typeUsed)\n",
        "print(min_num)\n",
        "# typeUsed = s_unique[s_freq_order][:numUsed]\n",
        "# min_num = s_freq_desc[numUsed -1] # the number of every sonoytpes\n",
        "\n",
        "specs = []\n",
        "aux_input = []\n",
        "sonotypes = []\n",
        "\n",
        "for i in range(numUsed):\n",
        "  # get index of the current type of spec\n",
        "  cur_index = np.argwhere(sonotypes_h5 == typeUsed[i]).flatten()\n",
        "  # randomly choose index in b \n",
        "  # to ensure we have same number of type b and i\n",
        "  random.shuffle(cur_index)\n",
        "  cur_index_resized = cur_index[:min_num]\n",
        "  if len(specs):\n",
        "    specs = np.append(specs, specs_h5[cur_index_resized], axis = 0)\n",
        "  else:\n",
        "    specs = specs_h5[cur_index_resized]\n",
        "\n",
        "  if len(aux_input):\n",
        "    aux_input = np.append(aux_input, aux_input_h5[cur_index_resized], axis= 0)\n",
        "  else:\n",
        "    aux_input = aux_input_h5[cur_index_resized]\n",
        "  \n",
        "  if len(sonotypes):\n",
        "    sonotypes = np.append(sonotypes, np.repeat(i, min_num))\n",
        "  else:\n",
        "    sonotypes = np.repeat(i, min_num)\n",
        "\n",
        "print(specs.shape)\n",
        "print(aux_input.shape)\n",
        "# print(sonotypes)"
      ],
      "execution_count": 0,
      "outputs": [
        {
          "output_type": "stream",
          "text": [
            "[52, 138]\n",
            "120\n",
            "(240, 224, 224, 3)\n",
            "(240, 4)\n"
          ],
          "name": "stdout"
        }
      ]
    },
    {
      "cell_type": "markdown",
      "metadata": {
        "id": "w8CrxhnkVDN1",
        "colab_type": "text"
      },
      "source": [
        "#### use a inbalanced set of input"
      ]
    },
    {
      "cell_type": "code",
      "metadata": {
        "id": "LIKQh6WRxGIU",
        "colab_type": "code",
        "outputId": "7f1a0404-627a-4252-868a-17b237f701e8",
        "colab": {
          "base_uri": "https://localhost:8080/",
          "height": 54
        }
      },
      "source": [
        "numUsed = 4\n",
        "typeUsed = s_unique[s_freq_order][:numUsed]\n",
        "# min_num = s_freq_desc[numUsed -1] # the number of every sonoytpes\n",
        "\n",
        "specs = []\n",
        "aux_input = []\n",
        "sonotypes = []\n",
        "\n",
        "for i in range(numUsed):\n",
        "  # get index of the current type of spec\n",
        "  cur_index = np.argwhere(sonotypes_h5 == typeUsed[i]).flatten()\n",
        "  # randomly choose index in b \n",
        "  # to ensure we have same number of type b and i\n",
        "  # random.shuffle(cur_index)\n",
        "  # cur_index_resized = cur_index[:min_num]\n",
        "  if len(specs):\n",
        "    specs = np.append(specs, specs_h5[cur_index], axis = 0)\n",
        "  else:\n",
        "    specs = specs_h5[cur_index]\n",
        "\n",
        "  if len(aux_input):\n",
        "    aux_input = np.append(aux_input, aux_input_h5[cur_index], axis= 0)\n",
        "  else:\n",
        "    aux_input = aux_input_h5[cur_index]\n",
        "  \n",
        "  if len(sonotypes):\n",
        "    sonotypes = np.append(sonotypes, np.repeat(i, len(cur_index)))\n",
        "  else:\n",
        "    sonotypes = np.repeat(i,len(cur_index))\n",
        "\n",
        "print(specs.shape)\n",
        "print(aux_input.shape)\n",
        "# print(sonotypes)"
      ],
      "execution_count": 0,
      "outputs": [
        {
          "output_type": "stream",
          "text": [
            "(467, 224, 224, 3)\n",
            "(467, 4)\n"
          ],
          "name": "stdout"
        }
      ]
    },
    {
      "cell_type": "markdown",
      "metadata": {
        "id": "ggxSJZ5fVJcu",
        "colab_type": "text"
      },
      "source": [
        "#### thresholding for spectrogram"
      ]
    },
    {
      "cell_type": "code",
      "metadata": {
        "id": "Kih_mjQhnFBX",
        "colab_type": "code",
        "colab": {}
      },
      "source": [
        "#  use threshold to get rid of small data\n",
        "for i in range(len(specs)):\n",
        "  threshold = np.percentile(specs[i], 80)\n",
        "  specs[i] = np.where(specs[i] < threshold, 0, 255)"
      ],
      "execution_count": 0,
      "outputs": []
    },
    {
      "cell_type": "markdown",
      "metadata": {
        "id": "B_bnGCWaIe7K",
        "colab_type": "text"
      },
      "source": [
        "## Seperate test and train"
      ]
    },
    {
      "cell_type": "code",
      "metadata": {
        "id": "GtNkroNccu7h",
        "colab_type": "code",
        "outputId": "10e30545-2cfc-4402-cb4c-d87a0850bd93",
        "colab": {
          "base_uri": "https://localhost:8080/",
          "height": 54
        }
      },
      "source": [
        "# seperate the data into training and testing\n",
        "x_train, x_test, y_train, y_test, aux_train, aux_test = train_test_split(specs, sonotypes, aux_input,test_size=0.1)\n",
        "\n",
        "# work without aux input\n",
        "aux_train = np.zeros((len(x_train), 4))\n",
        "aux_test = np.zeros((len(x_test),4))\n",
        "\n",
        "print(len(x_train))\n",
        "print(len(x_test))"
      ],
      "execution_count": 0,
      "outputs": [
        {
          "output_type": "stream",
          "text": [
            "216\n",
            "24\n"
          ],
          "name": "stdout"
        }
      ]
    },
    {
      "cell_type": "markdown",
      "metadata": {
        "id": "L_mIU5MhrOjE",
        "colab_type": "text"
      },
      "source": [
        "#Test with MINST dataset"
      ]
    },
    {
      "cell_type": "code",
      "metadata": {
        "id": "P_3vZZb0rSwz",
        "colab_type": "code",
        "colab": {}
      },
      "source": [
        "from keras.datasets.mnist import load_data\n",
        "import cv2\n",
        "\n",
        "types = [1,5,4,3,2]\n",
        "num = [72,72,72,72,72]\n",
        "# load the data - it returns 2 tuples of digits & labels - one for\n",
        "# the train set & the other for the test set\n",
        "(train_digits, train_labels), (test_digits, test_labels) = load_data()\n",
        "\n",
        "train_num = np.multiply(num, 0.9)\n",
        "test_num = np.multiply(num, 0.1)\n",
        "\n",
        "# re-shape the images data\n",
        "train_data = []\n",
        "test_data = []\n",
        "train_y = []\n",
        "test_y = []\n",
        "for j in range(len(types)):\n",
        "  cur_train = []\n",
        "  for i in range(len(train_digits)):\n",
        "    if train_labels[i] == types[j]:\n",
        "      spec_resized=cv2.resize(train_digits[i],(224,224))\n",
        "      spec_resized=cv2.cvtColor(spec_resized.astype('float32'), cv2.COLOR_BGR2RGB) #cv2 does not accept float64 \n",
        "      spec_resized = np.flip(spec_resized,0)\n",
        "      cur_train.append(spec_resized)\n",
        "      train_y.append(train_labels[i])\n",
        "    if len(cur_train) >= train_num[j]:\n",
        "      if len(train_data):\n",
        "        train_data = np.append(train_data, cur_train, axis = 0)\n",
        "      else:\n",
        "        train_data = cur_train\n",
        "      break\n",
        "  \n",
        "\n",
        "  cur_test = []\n",
        "  for i in range(len(test_digits)):\n",
        "    if test_labels[i] == types[j]:\n",
        "      spec_resized=cv2.resize(test_digits[i],(224,224))\n",
        "      spec_resized=cv2.cvtColor(spec_resized.astype('float32'), cv2.COLOR_BGR2RGB) #cv2 does not accept float64 \n",
        "      spec_resized = np.flip(spec_resized,0)\n",
        "      cur_test.append(spec_resized)\n",
        "      test_y.append(test_labels[i])\n",
        "    if len(cur_test) >= test_num[j]:\n",
        "      if len(test_data):\n",
        "        test_data = np.append(test_data, cur_test, axis = 0)\n",
        "      else:\n",
        "        test_data = cur_test\n",
        "      break\n",
        "\n",
        "train_digits = []\n",
        "train_labels = []\n",
        "test_digits = []\n",
        "test_labels = []"
      ],
      "execution_count": 0,
      "outputs": []
    },
    {
      "cell_type": "code",
      "metadata": {
        "id": "dBT45tQQ3ozA",
        "colab_type": "code",
        "outputId": "299eeec1-d82e-4a0f-e922-75d41da6833e",
        "colab": {
          "base_uri": "https://localhost:8080/",
          "height": 35
        }
      },
      "source": [
        "len(train_data), len(test_data)"
      ],
      "execution_count": 0,
      "outputs": [
        {
          "output_type": "execute_result",
          "data": {
            "text/plain": [
              "(325, 40)"
            ]
          },
          "metadata": {
            "tags": []
          },
          "execution_count": 36
        }
      ]
    },
    {
      "cell_type": "code",
      "metadata": {
        "id": "nTMfnNCywvxf",
        "colab_type": "code",
        "outputId": "31f1d1c1-311e-4b02-8a5b-33c148cc10b7",
        "colab": {
          "base_uri": "https://localhost:8080/",
          "height": 35
        }
      },
      "source": [
        "from keras.utils import to_categorical\n",
        "\n",
        "cat_y_train = to_categorical(train_y[:1600])\n",
        "cat_y_test = to_categorical(test_y[:200])\n",
        "aux_train = np.zeros((len(train_data), 4))\n",
        "aux_test = np.zeros((len(test_data),4))\n",
        "x_train = train_data\n",
        "x_test = test_data\n",
        "\n",
        "len(aux_train), len(aux_test)"
      ],
      "execution_count": 0,
      "outputs": [
        {
          "output_type": "execute_result",
          "data": {
            "text/plain": [
              "(325, 40)"
            ]
          },
          "metadata": {
            "tags": []
          },
          "execution_count": 37
        }
      ]
    },
    {
      "cell_type": "code",
      "metadata": {
        "id": "VvuLVDY9rOVh",
        "colab_type": "code",
        "outputId": "9998197b-db80-4557-c8fd-c0706a527dd6",
        "colab": {
          "base_uri": "https://localhost:8080/",
          "height": 325
        }
      },
      "source": [
        "plt.imshow(x_train[1])\n",
        "print(train_y[1])\n",
        "plt.show()"
      ],
      "execution_count": 0,
      "outputs": [
        {
          "output_type": "stream",
          "text": [
            "Clipping input data to the valid range for imshow with RGB data ([0..1] for floats or [0..255] for integers).\n"
          ],
          "name": "stderr"
        },
        {
          "output_type": "stream",
          "text": [
            "1\n"
          ],
          "name": "stdout"
        },
        {
          "output_type": "display_data",
          "data": {
            "image/png": "[encoded data removed]",
            "text/plain": [
              "<Figure size 432x288 with 1 Axes>"
            ]
          },
          "metadata": {
            "tags": [],
            "needs_background": "light"
          }
        }
      ]
    },
    {
      "cell_type": "markdown",
      "metadata": {
        "id": "XZ-CAbI2YWEO",
        "colab_type": "text"
      },
      "source": [
        "#To Categorical"
      ]
    },
    {
      "cell_type": "code",
      "metadata": {
        "id": "FR0rlYOuYYEH",
        "colab_type": "code",
        "outputId": "0d69fb9a-adf4-4dc4-acc8-7a31d56fde0d",
        "colab": {
          "base_uri": "https://localhost:8080/",
          "height": 35
        }
      },
      "source": [
        "# Convert labels to a categorical array\n",
        "# currently 492 classes for trainning set and 490 tests for test class\n",
        "\n",
        "# cat_y_test = to_categorical(y_test, num_classes = 500)\n",
        "# cat_y_train = to_categorical(y_train, num_classes = 500)\n",
        "\n",
        "# if use groups\n",
        "num_c = max(len(np.unique(y_test)), len(np.unique(y_train)))\n",
        "print(num_c)\n",
        "cat_y_test = to_categorical(pd.factorize(y_test)[0],num_classes= num_c)\n",
        "cat_y_train = to_categorical(pd.factorize(y_train)[0], num_classes= num_c)"
      ],
      "execution_count": 0,
      "outputs": [
        {
          "output_type": "stream",
          "text": [
            "2\n"
          ],
          "name": "stdout"
        }
      ]
    },
    {
      "cell_type": "markdown",
      "metadata": {
        "id": "PKSSG95w3er8",
        "colab_type": "text"
      },
      "source": [
        "#Model\n"
      ]
    },
    {
      "cell_type": "code",
      "metadata": {
        "id": "iRpZTBJ_V7dj",
        "colab_type": "code",
        "colab": {}
      },
      "source": [
        "config = dict(\n",
        "    dropout = 0.55,\n",
        "    hidden = 1024,\n",
        "    learn_rate = 0.00001,\n",
        "    epochs = 30,\n",
        "    )"
      ],
      "execution_count": 0,
      "outputs": []
    },
    {
      "cell_type": "code",
      "metadata": {
        "id": "FxcBzs45VjPy",
        "colab_type": "code",
        "outputId": "ae04632d-99c7-47a5-a613-f35edd1c3675",
        "colab": {
          "base_uri": "https://localhost:8080/",
          "height": 55
        }
      },
      "source": [
        "def build_finetune_model(base_model, dropouts, fc_layers, num_classes):\n",
        "    #for layer in base_model.layers:\n",
        "    #    layer.trainable = False\n",
        "\n",
        "    x = base_model.output\n",
        "    x = Flatten()(x)\n",
        "\n",
        "    # add input layer\n",
        "    auxiliary_input = Input(shape=(4,), name='aux_input')\n",
        "    x = concatenate([x, auxiliary_input])\n",
        "\n",
        "    for fc, drop in zip(fc_layers, dropouts):\n",
        "        x = Dense(fc, activation='relu')(x) \n",
        "        x = Dropout(drop)(x)\n",
        "\n",
        "    predictions = Dense(num_classes, activation='softmax')(x)\n",
        "\n",
        "    finetune_model = Model(inputs=[base_model.input,auxiliary_input], outputs=predictions)\n",
        "    # finetune_model = Model(inputs=base_model.input, outputs=predictions)\n",
        "\n",
        "    return finetune_model\n",
        "\n",
        "model = None\n",
        "keras.backend.clear_session()\n",
        "model = VGG19(weights='imagenet', include_top=False, input_shape=(224,224,3))\n",
        "model = build_finetune_model(model, \n",
        "                             [config[\"dropout\"], config[\"dropout\"]], \n",
        "                             [config[\"hidden\"], config[\"hidden\"]], \n",
        "                             cat_y_train.shape[1])"
      ],
      "execution_count": 0,
      "outputs": [
        {
          "output_type": "stream",
          "text": [
            "WARNING:tensorflow:Large dropout rate: 0.55 (>0.5). In TensorFlow 2.x, dropout() uses dropout rate instead of keep_prob. Please ensure that this is intended.\n"
          ],
          "name": "stdout"
        }
      ]
    },
    {
      "cell_type": "code",
      "metadata": {
        "id": "x537wMr2SygI",
        "colab_type": "code",
        "colab": {}
      },
      "source": [
        "model.summary()"
      ],
      "execution_count": 0,
      "outputs": []
    },
    {
      "cell_type": "code",
      "metadata": {
        "id": "NSQxpgYTZsjm",
        "colab_type": "code",
        "colab": {}
      },
      "source": [
        "plot_model(model,to_file = 'My Drive/Stethoscope/model.png')"
      ],
      "execution_count": 0,
      "outputs": []
    },
    {
      "cell_type": "markdown",
      "metadata": {
        "id": "h6nWIzk2Vl5-",
        "colab_type": "text"
      },
      "source": [
        "#Training"
      ]
    },
    {
      "cell_type": "code",
      "metadata": {
        "id": "Pw7naFs03eDb",
        "colab_type": "code",
        "colab": {}
      },
      "source": [
        "filepath = 'My Drive/Stethoscope/model_group.hdf5'\n",
        "\n",
        "earlystop = EarlyStopping(monitor='val_loss', mode='min', verbose=1)\n",
        "checkpoint = ModelCheckpoint(filepath, monitor='val_loss', verbose=0, save_best_only=False, save_weights_only=False, mode='auto', period=1)\n",
        "\n",
        "opt = Adam(lr=config[\"learn_rate\"])\n",
        "model.compile(optimizer=opt, loss='categorical_crossentropy', metrics=['accuracy'])\n",
        "history = model.fit(x=[x_train, aux_train], y=cat_y_train, validation_data=([x_test, aux_test], cat_y_test), epochs=20)\n",
        "# history = model.fit(x=[x_train, aux_train], y=cat_y_train, validation_data=([x_test, aux_test], cat_y_test), epochs=config[\"epochs\"], callbacks=[earlystop, checkpoint])"
      ],
      "execution_count": 0,
      "outputs": []
    },
    {
      "cell_type": "markdown",
      "metadata": {
        "id": "VXPW2PagV7Ox",
        "colab_type": "text"
      },
      "source": [
        "# Data"
      ]
    },
    {
      "cell_type": "markdown",
      "metadata": {
        "id": "cdalUogUWq0V",
        "colab_type": "text"
      },
      "source": [
        "## With only Birds"
      ]
    },
    {
      "cell_type": "markdown",
      "metadata": {
        "id": "uyS0B8H-XJXh",
        "colab_type": "text"
      },
      "source": [
        "###2 types, 120 each\n",
        "loss: 10.2101 - accuracy: 0.9444 - val_loss: 24.5293 - val_accuracy: 0.9583\n",
        "###3 types, 92 each\n",
        "loss: 0.0015 - accuracy: 1.0000 - val_loss: 0.1741 - val_accuracy: 0.9643\n",
        "loss: 0.0228 - accuracy: 0.9879 - val_loss: 0.7307 - val_accuracy: 0.9286\n",
        "\n",
        "###4 types, 57 each\n",
        "accuracy: 0.8683 - val_loss: 2.6672 - val_accuracy: 0.6087\n",
        "\n",
        "###5 types, 45 each\n",
        "accuracy: 0.3713 - val_loss: 1.4765 - val_accuracy: 0.4348"
      ]
    },
    {
      "cell_type": "markdown",
      "metadata": {
        "id": "rGTw7-AttZEP",
        "colab_type": "text"
      },
      "source": [
        "## With all the groups\n",
        "\n",
        "\n",
        "\n"
      ]
    },
    {
      "cell_type": "markdown",
      "metadata": {
        "id": "yhrZJRvvW0dQ",
        "colab_type": "text"
      },
      "source": [
        "### balanced classes with time and frequency:\n",
        "###2 types, 120 each\n",
        "loss: 10.2101 - accuracy: 0.9444 - val_loss: 24.5293 - val_accuracy: 0.9583\n",
        "###3 types, 113 each\n",
        "loss: 328.8753 - accuracy: 0.3574 - val_loss: 53.3833 - val_accuracy: 0.4412\n",
        "###4 types, 92 each\n",
        "loss: 368.9658 - accuracy: 0.3958 - val_loss: 191.2737 - val_accuracy: 0.3784\n",
        "###5 types, 72 each\n",
        "3s 9ms/step - loss: 461.9938 - accuracy: 0.3086 - val_loss: 326.3062 - val_accuracy: 0.1389\n",
        "\n",
        "##inbalanced classes with time and frequency:\n",
        "###2 types,\n",
        "loss: 116.8172 - accuracy: 0.7447 - val_loss: 74.5958 - val_accuracy: 0.8148\n",
        "###3 types,\n",
        "loss: 314.5453 - accuracy: 0.3650 - val_loss: 140.8449 - val_accuracy: 0.3421\n",
        "###4 types,\n",
        "loss: 560.8641 - accuracy: 0.2405 - val_loss: 157.1247 - val_accuracy: 0.1915\n",
        "\n",
        "##balanced classes without times and frequency\n",
        "loss: 9.5630 - accuracy: 0.5463 - val_loss: 3.9478 - val_accuracy: 0.3750\n",
        "not work\n",
        "\n",
        "##MINST balanced\n",
        "###2 types, 120 each\n",
        "loss: 0.0494 - accuracy: 0.9907 - val_loss: 0.0021 - val_accuracy: 1.0000\n",
        "###3 types, 113 each\n",
        "loss: 0.0284 - accuracy: 0.9967 - val_loss: 0.0239 - val_accuracy: 1.0000\n",
        "###4 =types, 92 each\n",
        "loss: 0.0589 - accuracy: 0.9849 - val_loss: 0.0161 - val_accuracy: 1.0000\n",
        "###5 types, 72 each\n",
        "loss: 0.0930 - accuracy: 0.9723 - val_loss: 0.0757 - val_accuracy: 0.9500\n"
      ]
    },
    {
      "cell_type": "markdown",
      "metadata": {
        "id": "pMsCWN30TmmM",
        "colab_type": "text"
      },
      "source": [
        "#Model Performance"
      ]
    },
    {
      "cell_type": "code",
      "metadata": {
        "id": "TM6jc76cTLWn",
        "colab_type": "code",
        "colab": {}
      },
      "source": [
        "# model = load_model('My Drive/Stethoscope/model.hdf5')\n",
        "# Loss Curves\n",
        "plt.figure(figsize=[8,6])\n",
        "plt.plot(history.history['loss'],'r',linewidth=3.0)\n",
        "plt.plot(history.history['val_loss'],'b',linewidth=3.0)\n",
        "plt.legend(['Training loss', 'Validation Loss'],fontsize=18)\n",
        "plt.xlabel('Epochs ',fontsize=16)\n",
        "plt.ylabel('Loss',fontsize=16)\n",
        "plt.title('Loss Curves',fontsize=16)\n",
        "\n",
        "print(history)\n",
        "# Accuracy Curves\n",
        "plt.figure(figsize=[8,6])\n",
        "plt.plot(history.history['accuracy'],'r',linewidth=3.0)\n",
        "plt.plot(history.history['val_accuracy'],'b',linewidth=3.0)\n",
        "plt.legend(['Training Accuracy', 'Validation Accuracy'],fontsize=18)\n",
        "plt.xlabel('Epochs ',fontsize=16)\n",
        "plt.ylabel('Accuracy',fontsize=16)\n",
        "plt.title('Accuracy Curves',fontsize=16)\n"
      ],
      "execution_count": 0,
      "outputs": []
    },
    {
      "cell_type": "code",
      "metadata": {
        "id": "oeu1UnKUoxlO",
        "colab_type": "code",
        "outputId": "24c8f54d-28a3-4833-8317-cfc71aa8a66b",
        "colab": {
          "base_uri": "https://localhost:8080/",
          "height": 419
        }
      },
      "source": [
        "# prediction\n",
        "%matplotlib inline\n",
        "randIdx = random.randint(0,len(x_test)-1)\n",
        "print(randIdx)\n",
        "test_img = x_test[randIdx]\n",
        "test_aux = aux_test[randIdx]\n",
        "confidence = model.predict([np.reshape(test_img,(1,224,224,3)), np.reshape(test_aux, (1,4))])\n",
        "c  = float(str(confidence[0][np.argmax(confidence)])[:6]);\n",
        "print(confidence)\n",
        "\n",
        "fig = plt.figure()\n",
        "ax = fig.add_subplot(1, 1, 1)\n",
        "# img = plt.imshow(test_img[:,:,1])\n",
        "img = plt.imshow(test_img)\n",
        "ax.tick_params(axis='x', colors='white')\n",
        "ax.tick_params(axis='y', colors='white')\n",
        "title = ('\\nPrediction: ' + str([np.argmax(confidence)]) + \n",
        "          '\\nActual: ' + str([np.argmax(cat_y_test[randIdx])]) +\n",
        "          '\\nConfidence: ' +'{:.2%}'.format(c))\n",
        "plt.title(title)\n"
      ],
      "execution_count": 0,
      "outputs": [
        {
          "output_type": "stream",
          "text": [
            "Clipping input data to the valid range for imshow with RGB data ([0..1] for floats or [0..255] for integers).\n"
          ],
          "name": "stderr"
        },
        {
          "output_type": "stream",
          "text": [
            "19\n",
            "[[0.38693503 0.613065  ]]\n"
          ],
          "name": "stdout"
        },
        {
          "output_type": "execute_result",
          "data": {
            "text/plain": [
              "Text(0.5, 1.0, '\\nPrediction: [1]\\nActual: [1]\\nConfidence: 61.30%')"
            ]
          },
          "metadata": {
            "tags": []
          },
          "execution_count": 68
        },
        {
          "output_type": "display_data",
          "data": {
            "image/png": "[encoded data removed]",
            "text/plain": [
              "<Figure size 432x288 with 1 Axes>"
            ]
          },
          "metadata": {
            "tags": [],
            "needs_background": "dark"
          }
        }
      ]
    },
    {
      "cell_type": "code",
      "metadata": {
        "id": "MEMu7u-olJeS",
        "colab_type": "code",
        "colab": {}
      },
      "source": [
        ""
      ],
      "execution_count": 0,
      "outputs": []
    },
    {
      "cell_type": "markdown",
      "metadata": {
        "id": "GZafg0JB23Zb",
        "colab_type": "text"
      },
      "source": [
        "#MISC"
      ]
    },
    {
      "cell_type": "code",
      "metadata": {
        "id": "ggWDGFp0273e",
        "colab_type": "code",
        "outputId": "229f4f4d-a24e-4426-ba35-a66d384e59ee",
        "colab": {
          "base_uri": "https://localhost:8080/",
          "height": 363
        }
      },
      "source": [
        "# predit image with pre-trained weight of iamgeNet\n",
        "import cv2\n",
        "img_path = \"My Drive/Stethoscope/2020Spring.png\"\n",
        "img = cv2.imread(img_path, cv2.IMREAD_UNCHANGED)\n",
        "test_img = x=cv2.resize(img,(224,224))[:,:,:3]\n",
        "test_aux = [1000,1000,1000,1009]\n",
        "confidence = model.predict([np.reshape(test_img,(1,224,224,3)), np.reshape(test_aux, (1,4))])\n",
        "c  = float(str(confidence[0][np.argmax(confidence)])[:6]);\n",
        "print(confidence)\n",
        "\n",
        "fig = plt.figure()\n",
        "ax = fig.add_subplot(1, 1, 1)\n",
        "# img = plt.imshow(test_img[:,:,1])\n",
        "img = plt.imshow(test_img)\n",
        "ax.tick_params(axis='x', colors='white')\n",
        "ax.tick_params(axis='y', colors='white')\n",
        "title = ('\\nPrediction: ' + str([np.argmax(confidence)]) + \n",
        "          '\\nActual: ' + str([np.argmax(cat_y_test[randIdx])]) +\n",
        "          '\\nConfidence: ' +'{:.2%}'.format(c))\n",
        "plt.title(title)\n"
      ],
      "execution_count": 0,
      "outputs": [
        {
          "output_type": "stream",
          "text": [
            "[[1. 0.]]\n"
          ],
          "name": "stdout"
        },
        {
          "output_type": "execute_result",
          "data": {
            "text/plain": [
              "Text(0.5, 1.0, '\\nPrediction: [0]\\nActual: [1]\\nConfidence: 100.00%')"
            ]
          },
          "metadata": {
            "tags": []
          },
          "execution_count": 94
        },
        {
          "output_type": "display_data",
          "data": {
            "image/png": "[encoded data removed]",
            "text/plain": [
              "<Figure size 432x288 with 1 Axes>"
            ]
          },
          "metadata": {
            "tags": [],
            "needs_background": "dark"
          }
        }
      ]
    },
    {
      "cell_type": "code",
      "metadata": {
        "id": "07-L5Utc3tHd",
        "colab_type": "code",
        "colab": {}
      },
      "source": [
        ""
      ],
      "execution_count": 0,
      "outputs": []
    }
  ]
}