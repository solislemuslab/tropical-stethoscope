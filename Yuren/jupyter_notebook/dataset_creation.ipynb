{
  "nbformat": 4,
  "nbformat_minor": 0,
  "metadata": {
    "colab": {
      "name": "dataset_creation.ipynb",
      "provenance": [],
      "collapsed_sections": [],
      "toc_visible": true,
      "machine_shape": "hm"
    },
    "kernelspec": {
      "name": "python3",
      "display_name": "Python 3"
    }
  },
  "cells": [
    {
      "cell_type": "code",
      "metadata": {
        "id": "S_tNTV43KaGW",
        "colab_type": "code",
        "outputId": "735ac676-2787-4898-9291-3c133d16ad1a",
        "colab": {
          "base_uri": "https://localhost:8080/",
          "height": 72
        }
      },
      "source": [
        "!pip install soundfile\n",
        "import os\n",
        "from scipy.io import wavfile\n",
        "import numpy as np\n",
        "import scipy\n",
        "import scipy.signal\n",
        "import soundfile as sf\n",
        "import random\n",
        "import matplotlib.pyplot as plt\n",
        "import matplotlib.patches as patches\n",
        "import csv\n",
        "from collections import namedtuple\n",
        "import datetime\n",
        "import time\n",
        "from google.colab import drive\n",
        "import h5py\n",
        "import cv2\n",
        "from PIL import Image, ImageOps\n",
        "from sklearn.model_selection import train_test_split"
      ],
      "execution_count": 0,
      "outputs": [
        {
          "output_type": "stream",
          "text": [
            "Requirement already satisfied: soundfile in /usr/local/lib/python3.6/dist-packages (0.10.3.post1)\n",
            "Requirement already satisfied: cffi>=1.0 in /usr/local/lib/python3.6/dist-packages (from soundfile) (1.14.0)\n",
            "Requirement already satisfied: pycparser in /usr/local/lib/python3.6/dist-packages (from cffi>=1.0->soundfile) (2.20)\n"
          ],
          "name": "stdout"
        }
      ]
    },
    {
      "cell_type": "markdown",
      "metadata": {
        "id": "D7-LNEfuOda4",
        "colab_type": "text"
      },
      "source": [
        "# Connect to google drive\n",
        "\n"
      ]
    },
    {
      "cell_type": "code",
      "metadata": {
        "id": "5Lgabz37Kd61",
        "colab_type": "code",
        "outputId": "3b0d741e-d5ab-4b1b-fcd2-1fbef32c06a0",
        "colab": {
          "base_uri": "https://localhost:8080/",
          "height": 35
        }
      },
      "source": [
        "drive.mount('/content/drive')\n",
        "os.chdir('/content/drive/')"
      ],
      "execution_count": 0,
      "outputs": [
        {
          "output_type": "stream",
          "text": [
            "Drive already mounted at /content/drive; to attempt to forcibly remount, call drive.mount(\"/content/drive\", force_remount=True).\n"
          ],
          "name": "stdout"
        }
      ]
    },
    {
      "cell_type": "markdown",
      "metadata": {
        "id": "Vgw-KnZrO29e",
        "colab_type": "text"
      },
      "source": [
        "# Get the labels <br>\n",
        "Low and highFrequencies are in col 5 and 6. <br>\n",
        "File path is in col 7. <br>\n",
        "Split the file to get the start time of the cur recording. <br>\n",
        "Begin clock time is in col 10. <br>\n",
        "Use the start and end clock time (in col 3,4) adding to the begin clock time to decide the time period. <br>\n",
        "Sonotype is in col 11.\n"
      ]
    },
    {
      "cell_type": "code",
      "metadata": {
        "id": "nSQOd48XO0YZ",
        "colab_type": "code",
        "outputId": "04fb9686-2890-4d04-9175-9cf40aa1f152",
        "colab": {
          "base_uri": "https://localhost:8080/",
          "height": 108
        }
      },
      "source": [
        "labelFile = \"Shared drives/Stethoscope for the rainforests/Training data set /Table_13AB.txt\"\n",
        "\n",
        "times = [] \n",
        "freqs = []\n",
        "files = []\n",
        "sonotypes = []\n",
        "actTimes = []\n",
        "\n",
        "with open(labelFile) as file:\n",
        "  label_reader = csv.reader(file, delimiter='\\t')\n",
        "  for row in label_reader:\n",
        "    # not use the first row\n",
        "    if (not row[0].isnumeric()):\n",
        "      continue\n",
        "\n",
        "    # all the recording are either start at 0min or 30mins\n",
        "    duration = float(row[4]) - float(row[3])\n",
        "    timeWeight = [3600,60,1]\n",
        "    actSta = sum([a*b for a,b in zip(timeWeight, map(int,row[10].replace('.',\":\").split(':')[:3]))])\n",
        "    actEnd = actSta + duration\n",
        "    \n",
        "    # get the start time of cur recording\n",
        "    fileName = row[7].split(\"\\\\\")[-1]\n",
        "    # 3B_20180607_070500_Dawn_Sunrise_Based.wav\n",
        "    # or 20180908_060000_13A_24H [1.4452 116.9811].wav\n",
        "    splName = fileName.split(\"_\")\n",
        "\n",
        "    # actual time is either in index 1 or 2 in splName\n",
        "    if (len(splName[1]) == 6):\n",
        "      strTime = splName[1]         \n",
        "    elif (len(splName[2]) == 6):   \n",
        "      strTime = splName[2]\n",
        "    else: \n",
        "      print(row[0])\n",
        "      continue  \n",
        "\n",
        "    recLis = [int(strTime[0]) * 10 + int(strTime[1]),\n",
        "              int(strTime[2]) * 10 + int(strTime[3]), \n",
        "              int(strTime[4]) * 10 + int(strTime[5])]    \n",
        "\n",
        "    recSta = sum([a*b for a,b in zip(timeWeight, recLis)])\n",
        "\n",
        "    # start, end time used to corp the specs\n",
        "    start = actSta - recSta\n",
        "    end = start + duration\n",
        "\n",
        "    try:\n",
        "      sonotypes.append(int(row[11]))\n",
        "      times.append([start,end])\n",
        "      actTimes.append([actSta, actEnd])\n",
        "      freqs.append([float(row[5]), float(row[6])])\n",
        "      files.append(fileName) \n",
        "    except:\n",
        "      # selection number\n",
        "      print(row[0])\n",
        "      pass\n",
        "\n",
        "print(\"dataset size:  %i\" % len(times))    \n",
        "print(\"filename sample: \" + files[0])\n",
        "\n",
        "print(files[len(files)-1])\n",
        "print(actTimes[len(files)-1])\n",
        "print(times[len(files)-1])"
      ],
      "execution_count": 0,
      "outputs": [
        {
          "output_type": "stream",
          "text": [
            "dataset size:  1467\n",
            "filename sample: 3B_20180607_070500_Dawn_Sunrise_Based.wav\n",
            "20190606_060400_Dawn_Sunrise_Based [13B_.4444 116.9808].wav\n",
            "[22282, 22283.180659224046]\n",
            "[442, 443.1806592240464]\n"
          ],
          "name": "stdout"
        }
      ]
    },
    {
      "cell_type": "markdown",
      "metadata": {
        "id": "YY5COntfgOSW",
        "colab_type": "text"
      },
      "source": [
        "#Creat H5 data storage\n"
      ]
    },
    {
      "cell_type": "code",
      "metadata": {
        "id": "Vj3bjckjgRrK",
        "colab_type": "code",
        "colab": {}
      },
      "source": [
        "f = h5py.File('My Drive/Stethoscope/13A_data.hdf5', 'w')\n",
        "\n",
        "data = f.create_dataset(\"specs\", (0,224,224,3,), maxshape=(None,None,None,None,), chunks=True)\n",
        "data = f.create_dataset(\"sonotypes\", (0,),  maxshape=(None,), chunks=True)\n",
        "data = f.create_dataset(\"times\", (0,2,), maxshape=(None,None,), chunks=True)\n",
        "data = f.create_dataset(\"freqs\", (0,2,), maxshape=(None,None,), chunks=True)\n",
        "\n",
        "f.close()"
      ],
      "execution_count": 0,
      "outputs": []
    },
    {
      "cell_type": "markdown",
      "metadata": {
        "id": "SiNlNSgGGK7s",
        "colab_type": "text"
      },
      "source": [
        "# Get the data according to the labels and store into database\n"
      ]
    },
    {
      "cell_type": "code",
      "metadata": {
        "id": "-M1l-rrCOr-9",
        "colab_type": "code",
        "outputId": "5216debb-d21e-4f73-8ede-245536935e99",
        "colab": {
          "base_uri": "https://localhost:8080/",
          "height": 1000
        }
      },
      "source": [
        "# all the sound files\n",
        "fileDir = \"Shared drives/Stethoscope for the rainforests/Sound data/EastKalimantan/13A/\"\n",
        "soundFiles = os.listdir(fileDir)\n",
        "usedFiles = np.intersect1d(soundFiles, files)\n",
        "\n",
        "# get spectrogram data\n",
        "specs = [None] * len(times) #list storing spectrogram data\n",
        "\n",
        "for curFile in usedFiles:\n",
        "  print(\"processing \" + curFile)\n",
        "  filePath = fileDir + curFile\n",
        "  audio, rate = sf.read(filePath)\n",
        "\n",
        "  # plot the spectrogram\n",
        "  freq, t, spec = scipy.signal.spectrogram(audio, rate)\n",
        "  for i in range(len(files)):\n",
        "    if(files[i] == curFile):\n",
        "      boxTime = times[i]\n",
        "      boxFreq = freqs[i]\n",
        "\n",
        "      # get low and high freq index of the box\n",
        "      low_freq = np.argmin(np.abs(freq - boxFreq[0]))\n",
        "      high_freq = np.argmin(np.abs(freq - boxFreq[1]))\n",
        "      # get start and end time of the box\n",
        "      start = np.argmin(np.abs(t - boxTime[0]))\n",
        "      end = np.argmin(np.abs(t - boxTime[1]))\n",
        "\n",
        "      # adjust the params to cover the whole box\n",
        "      # be aware of index out of bound\n",
        "      if freq[low_freq] > boxFreq[0]: \n",
        "        low_freq = max(low_freq -1,0)\n",
        "\n",
        "      if freq[high_freq] < boxFreq[1]: \n",
        "        high_freq = high_freq + 1\n",
        "\n",
        "      if t[start] > boxTime[0]: \n",
        "        start = max(start - 1, 0)\n",
        "\n",
        "      if t[end] < boxTime[1]: \n",
        "        start = start + 1\n",
        "\n",
        "      specs[i] = spec[low_freq:high_freq, start:end]\n",
        "      # boxFreqPlt = freq[low_freq: high_freq]\n",
        "      # boxTPlt = t[start:end]\n",
        "\n",
        "  #  resize the image\n",
        "  specs_resized = []\n",
        "  freqs_updated = []\n",
        "  times_updated = []\n",
        "  sonotypes_updated = []\n",
        "\n",
        "  for i in range(len(files)):\n",
        "    if(files[i] == curFile):\n",
        "      spec_resized=cv2.resize(specs[i],(224,224))\n",
        "      spec_resized=cv2.cvtColor(spec_resized.astype('float32'), cv2.COLOR_BGR2RGB) #cv2 does not accept float64   \n",
        "      specs_resized.append(np.flip(spec_resized,0))\n",
        "      freqs_updated.append(freqs[i])\n",
        "      times_updated.append(actTimes[i])\n",
        "      sonotypes_updated.append(sonotypes[i]) \n",
        "\n",
        "  # print(\"data in current file: %i\" % len(times_updated))\n",
        "  \n",
        "  # store to H5 data storage\n",
        "  f =  h5py.File('My Drive/Stethoscope/13A_data.hdf5', \"a\")\n",
        "  f[\"times\"].resize((f[\"times\"].shape[0] + len(times_updated)), axis = 0)\n",
        "  f[\"times\"][-len(times_updated):,:] = times_updated\n",
        "\n",
        "  f[\"freqs\"].resize((f[\"freqs\"].shape[0] +  len(times_updated)), axis = 0)\n",
        "  f[\"freqs\"][-len(times_updated):,:] = freqs_updated\n",
        "\n",
        "  f[\"specs\"].resize((f[\"specs\"].shape[0] +  len(times_updated)), axis = 0)\n",
        "  f[\"specs\"][-len(times_updated):,:,:,:] = specs_resized\n",
        "\n",
        "  f[\"sonotypes\"].resize((f[\"sonotypes\"].shape[0] + len(times_updated)), axis = 0)\n",
        "  f[\"sonotypes\"][-len(times_updated):] = sonotypes_updated\n",
        "\n",
        "  f.close()\n",
        "  # empty the specs\n",
        "  specs = [None] * len(times) #list storing spectrogram data"
      ],
      "execution_count": 0,
      "outputs": [
        {
          "output_type": "stream",
          "text": [
            "processing 20180710_060000_13A_24H [1.4452 116.9811].wav\n",
            "data in current file: 71\n",
            "processing 20180710_093000_13A_24H [1.4452 116.9811].wav\n",
            "data in current file: 13\n",
            "processing 20180710_100000_13A_24H [1.4452 116.9811].wav\n",
            "data in current file: 1\n",
            "processing 20180710_180000_13A_24H [1.4452 116.9811].wav\n",
            "data in current file: 35\n",
            "processing 20180809_060000_13A_24H [1.4452 116.9811].wav\n",
            "data in current file: 34\n",
            "processing 20180809_180000_13A_24H [1.4452 116.9811].wav\n",
            "data in current file: 155\n",
            "processing 20180908_060000_13A_24H [1.4452 116.9811].wav\n",
            "data in current file: 71\n",
            "processing 20180908_170000_13A_24H [1.4452 116.9811].wav\n",
            "data in current file: 2\n",
            "processing 20180908_173000_13A_24H [1.4452 116.9811].wav\n",
            "data in current file: 1\n",
            "processing 20180908_180000_13A_24H [1.4452 116.9811].wav\n",
            "data in current file: 17\n",
            "processing 20181008_060000_13A_24H [1.4452 116.9811].wav\n",
            "data in current file: 70\n",
            "processing 20181008_100000_13A_24H [1.4452 116.9811].wav\n",
            "data in current file: 1\n",
            "processing 20181008_173000_13A_24H [1.4452 116.9811].wav\n",
            "data in current file: 13\n",
            "processing 20181107_060000_13A_24H [1.4452 116.9811].wav\n",
            "data in current file: 51\n",
            "processing 20181107_103000_13A_24H [1.4452 116.9811].wav\n",
            "data in current file: 2\n",
            "processing 20181107_173000_13A_24H [1.4452 116.9811].wav\n",
            "data in current file: 9\n",
            "processing 20181107_180000_13A_24H [1.4452 116.9811].wav\n",
            "data in current file: 8\n",
            "processing 20181107_183000_13A_24H [1.4452 116.9811].wav\n",
            "data in current file: 1\n",
            "processing 20181207_050000_13A_24H [1.4452 116.9811].wav\n",
            "data in current file: 3\n",
            "processing 20181207_053000_13A_24H [1.4452 116.9811].wav\n",
            "data in current file: 3\n",
            "processing 20181207_060000_13A_24H [1.4452 116.9811].wav\n",
            "data in current file: 38\n",
            "processing 20181207_173000_13A_24H [1.4452 116.9811].wav\n",
            "data in current file: 14\n",
            "processing 20181207_180000_13A_24H [1.4452 116.9811].wav\n",
            "data in current file: 2\n",
            "processing 20190106_060000_13A_24H [1.4452 116.9811].wav\n",
            "data in current file: 68\n",
            "processing 20190106_180000_13A_24H [1.4452 116.9811].wav\n",
            "data in current file: 1\n",
            "processing 20190205_063000_13A_24H [1.4438 116.9805].wav\n",
            "data in current file: 58\n",
            "processing 20190205_180000_13A_24H [1.4438 116.9805].wav\n",
            "data in current file: 40\n",
            "processing 20190207_062400_Dawn_Sunrise_Based [13B_.4444 116.9808].wav\n",
            "data in current file: 58\n",
            "processing 20190207_175800_Dusk_SunsetBased [13B_.4444 116.9808].wav\n",
            "data in current file: 6\n",
            "processing 20190307_060000_13A_24H [1.4438 116.9805].wav\n",
            "data in current file: 27\n",
            "processing 20190307_180000_13A_24H [1.4438 116.9805].wav\n",
            "data in current file: 68\n",
            "processing 20190406_060000_13A_24H [1.4438 116.9805].wav\n",
            "data in current file: 123\n",
            "processing 20190406_180000_13A_24H [1.4438 116.9805].wav\n",
            "data in current file: 18\n",
            "processing 20190506_053000_13A_24H [1.4438 116.9805].wav\n",
            "data in current file: 24\n",
            "processing 20190506_060000_13A_24H [1.4438 116.9805].wav\n",
            "data in current file: 55\n",
            "processing 20190506_180000_13A_24H [1.4438 116.9805].wav\n",
            "data in current file: 39\n",
            "processing 20190605_060000_13A_24H [1.4438 116.9805].wav\n",
            "data in current file: 51\n",
            "processing 20190605_180000_13A_24H [1.4438 116.9805].wav\n",
            "data in current file: 40\n",
            "processing 20190606_060400_Dawn_Sunrise_Based [13B_.4444 116.9808].wav\n",
            "data in current file: 50\n",
            "processing 20190606_174600_Dusk_SunsetBased [13B_.4444 116.9808].wav\n",
            "data in current file: 25\n",
            "processing 3B_20180607_070500_Dawn_Sunrise_Based.wav\n",
            "data in current file: 101\n"
          ],
          "name": "stdout"
        }
      ]
    },
    {
      "cell_type": "markdown",
      "metadata": {
        "id": "Mg5Yp1FEtDEz",
        "colab_type": "text"
      },
      "source": [
        "# **Misc**\n",
        "\n",
        "## tests and others"
      ]
    },
    {
      "cell_type": "code",
      "metadata": {
        "id": "yogD-Fh9iV_a",
        "colab_type": "code",
        "outputId": "9f41335a-e47e-497f-ff9e-74e5a3b81cf6",
        "colab": {
          "base_uri": "https://localhost:8080/",
          "height": 90
        }
      },
      "source": [
        "# check hdf5 file\n",
        "f =  h5py.File('My Drive/Stethoscope/13A_data.hdf5', \"r+\")\n",
        "specs = np.array(f[\"specs\"]).astype(\"float32\")\n",
        "sonotypes = np.array(f[\"sonotypes\"]).astype(\"float32\")\n",
        "times = np.array(f[\"times\"]).astype(\"float32\")\n",
        "freqs = np.array(f[\"freqs\"]).astype(\"float32\")\n",
        "f.close()\n",
        "\n",
        "print(specs.shape)\n",
        "print(sonotypes.shape)\n",
        "print(freqs.shape)\n",
        "print(times.shape)"
      ],
      "execution_count": 0,
      "outputs": [
        {
          "output_type": "stream",
          "text": [
            "(1467, 224, 224, 3)\n",
            "(1467,)\n",
            "(1467, 2)\n",
            "(1467, 2)\n"
          ],
          "name": "stdout"
        }
      ]
    },
    {
      "cell_type": "code",
      "metadata": {
        "id": "bSz8TAXWp0iY",
        "colab_type": "code",
        "outputId": "b8ee4e82-f058-4423-940b-3bc98ccd937d",
        "colab": {
          "base_uri": "https://localhost:8080/",
          "height": 35
        }
      },
      "source": [
        "print(freqs[10])"
      ],
      "execution_count": 0,
      "outputs": [
        {
          "output_type": "stream",
          "text": [
            "[1653.8 1981.9]\n"
          ],
          "name": "stdout"
        }
      ]
    },
    {
      "cell_type": "code",
      "metadata": {
        "id": "S3UnGbeVzbn8",
        "colab_type": "code",
        "outputId": "d2409194-3728-471c-bdbd-f0c1d7fed4d9",
        "colab": {
          "base_uri": "https://localhost:8080/",
          "height": 287
        }
      },
      "source": [
        "plt.imshow(x_train[100][:,:,1])\n",
        "plt.show()\n",
        "print(y_train[100])"
      ],
      "execution_count": 0,
      "outputs": [
        {
          "output_type": "display_data",
          "data": {
            "image/png": "[encoded data removed]",
            "text/plain": [
              "<Figure size 432x288 with 1 Axes>"
            ]
          },
          "metadata": {
            "tags": []
          }
        },
        {
          "output_type": "stream",
          "text": [
            "82\n"
          ],
          "name": "stdout"
        }
      ]
    },
    {
      "cell_type": "markdown",
      "metadata": {
        "id": "mKV9jIZ0o_tq",
        "colab_type": "text"
      },
      "source": [
        "Resize spectrograms to 224 * 224 * 3, test whether look the same to the original spectrogram."
      ]
    },
    {
      "cell_type": "code",
      "metadata": {
        "id": "eWBB5CvQtSoq",
        "colab_type": "code",
        "outputId": "a4aa00cd-7be4-45d0-832b-9dfcb5e1e762",
        "colab": {
          "base_uri": "https://localhost:8080/",
          "height": 423
        }
      },
      "source": [
        "index = random.randint(0, len(specs_resized) - 1)\n",
        "print(\"spec number: %d\" % index)\n",
        "print(\"sonotype: %d\" % sonotypes_updated[index])\n",
        "print(\"filename: %s\" % files[index])\n",
        "\n",
        "# compute the data for the spectrogram\n",
        "ranFile = files[index]\n",
        "fileDir = \"Shared drives/Stethoscope for the rainforests/Sound data/EastKalimantan/13A/\"\n",
        "ranFilePath = fileDir + curFile\n",
        "audio, rate = sf.read(ranFilePath)\n",
        "freq, t, spec = scipy.signal.spectrogram(audio, rate)\n",
        "\n",
        "# get low and high freq index of the box\n",
        "boxTime = times_updated[index]\n",
        "boxFreq = freqs_updated[index]\n",
        "\n",
        "# get low and high freq index of the box\n",
        "low_freq = np.argmin(np.abs(freq - boxFreq[0]))\n",
        "high_freq = np.argmin(np.abs(freq - boxFreq[1]))\n",
        "# get start and end time of the box\n",
        "start = np.argmin(np.abs(t - boxTime[0]))\n",
        "end = np.argmin(np.abs(t - boxTime[1]))\n",
        "\n",
        "# adjust the params to cover the whole box\n",
        "if freq[low_freq] > boxFreq[0]: \n",
        "  low_freq = low_freq -1\n",
        "\n",
        "if freq[high_freq] < boxFreq[1]: \n",
        "  high_freq = high_freq + 1\n",
        "\n",
        "if t[start] > boxTime[0]: \n",
        "  start = start - 1\n",
        "\n",
        "if t[end] < boxTime[1]: \n",
        "  start = start + 1\n",
        "\n",
        "boxSpecPlt = spec[low_freq:high_freq, start:end]\n",
        "boxFreqPlt = freq[low_freq: high_freq]\n",
        "boxTPlt = t[start:end]\n",
        "\n",
        "# plot the spectrogram\n",
        "# set up\n",
        "plt.figure(figsize=(15, 5))\n",
        "plt.ylabel('Frequency [Hz]')\n",
        "plt.xlabel('Time [sec]')\n",
        "plt.title(\"Spectrogram for a random box\")\n",
        "\n",
        "# plot\n",
        "plt.pcolormesh(boxTPlt, boxFreqPlt, boxSpecPlt)\n",
        "plt.colorbar()"
      ],
      "execution_count": 0,
      "outputs": [
        {
          "output_type": "stream",
          "text": [
            "spec number: 502\n",
            "sonotype: 68\n",
            "filename: 20181008_173000_13A_24H [1.4452 116.9811].wav\n"
          ],
          "name": "stdout"
        },
        {
          "output_type": "execute_result",
          "data": {
            "text/plain": [
              "<matplotlib.colorbar.Colorbar at 0x7fb0e0e4a630>"
            ]
          },
          "metadata": {
            "tags": []
          },
          "execution_count": 105
        },
        {
          "output_type": "display_data",
          "data": {
            "image/png": "[encoded data removed]",
            "text/plain": [
              "<Figure size 1080x360 with 2 Axes>"
            ]
          },
          "metadata": {
            "tags": []
          }
        }
      ]
    },
    {
      "cell_type": "code",
      "metadata": {
        "id": "VecSR3ijfdsn",
        "colab_type": "code",
        "outputId": "d213ed04-b42c-4bb9-fb17-575139d80be0",
        "colab": {
          "base_uri": "https://localhost:8080/",
          "height": 287
        }
      },
      "source": [
        "# file = specs_resized[index]\n",
        "spec_resized=cv2.resize(boxSpecPlt,(224,224))\n",
        "spec_resized=cv2.cvtColor(spec_resized.astype('float32'), cv2.COLOR_BGR2RGB) #cv2 does not accept float64   \n",
        "spec_resized= np.flip(spec_resized,0)\n",
        "\n",
        "print(spec_resized.shape)\n",
        "plt.imshow(spec_resized[:,:,1])\n",
        "plt.show()"
      ],
      "execution_count": 0,
      "outputs": [
        {
          "output_type": "stream",
          "text": [
            "(224, 224, 3)\n"
          ],
          "name": "stdout"
        },
        {
          "output_type": "display_data",
          "data": {
            "image/png": "[encoded data removed]",
            "text/plain": [
              "<Figure size 432x288 with 1 Axes>"
            ]
          },
          "metadata": {
            "tags": []
          }
        }
      ]
    },
    {
      "cell_type": "markdown",
      "metadata": {
        "id": "tj5FpDkzwuvh",
        "colab_type": "text"
      },
      "source": [
        "Resize the data"
      ]
    },
    {
      "cell_type": "code",
      "metadata": {
        "id": "NniqC-ifww3-",
        "colab_type": "code",
        "outputId": "0d58408b-819f-476a-ec95-82f1c4e052dd",
        "colab": {
          "base_uri": "https://localhost:8080/",
          "height": 54
        }
      },
      "source": [
        "specs_resized = []\n",
        "# for some sound not found\n",
        "freqs_updated = []\n",
        "times_updated = []\n",
        "sonotypes_updated = []\n",
        "\n",
        "empty_specs = []\n",
        "for i in range(len(files)):\n",
        "  if specs[i].size:\n",
        "    spec_resized=cv2.resize(specs[i],(224,224))\n",
        "    spec_resized=cv2.cvtColor(spec_resized.astype('float32'), cv2.COLOR_BGR2RGB) #cv2 does not accept float64   \n",
        "    specs_resized.append(np.flip(spec_resized,0))\n",
        "    freqs_updated.append(freqs[i])\n",
        "    times_updated.append(actTimes[i])\n",
        "    sonotypes_updated.append(sonotypes[i])\n",
        "  else:\n",
        "    empty_specs.append(i)\n",
        "  \n",
        "print(empty_specs)\n",
        "print(specs_resized[0].shape)"
      ],
      "execution_count": 0,
      "outputs": [
        {
          "output_type": "stream",
          "text": [
            "[]\n",
            "(224, 224, 3)\n"
          ],
          "name": "stdout"
        }
      ]
    },
    {
      "cell_type": "markdown",
      "metadata": {
        "colab_type": "text",
        "id": "Ilx0nBdXcpdL"
      },
      "source": [
        "Seperate Trainning and Testing dataset."
      ]
    },
    {
      "cell_type": "code",
      "metadata": {
        "colab_type": "code",
        "outputId": "c5a2a366-8cb3-43e8-d2ff-b15be26b6519",
        "id": "ZoiBU1Y5cpc2",
        "colab": {
          "base_uri": "https://localhost:8080/",
          "height": 54
        }
      },
      "source": [
        "x_train, x_test, y_train, y_test = train_test_split(specs_resized, sonotypes_updated, test_size=0.1, random_state = 42)\n",
        "\n",
        "print(len(x_train))\n",
        "print(len(x_test))"
      ],
      "execution_count": 0,
      "outputs": [
        {
          "output_type": "stream",
          "text": [
            "1320\n",
            "147\n"
          ],
          "name": "stdout"
        }
      ]
    },
    {
      "cell_type": "markdown",
      "metadata": {
        "id": "Qx20qhoOcW1T",
        "colab_type": "text"
      },
      "source": [
        " Store data to H5 data storage "
      ]
    },
    {
      "cell_type": "code",
      "metadata": {
        "id": "CT5Li24FcWLE",
        "colab_type": "code",
        "colab": {}
      },
      "source": [
        "f = h5py.File('My Drive/Stethoscope/13A_data.hdf5', 'w')\n",
        "\n",
        "data = f.create_dataset(\"specs\", data = np.array(specs_resized))\n",
        "data = f.create_dataset(\"sonotypes\", data = np.array(sonotypes_updated))\n",
        "# data = f.create_dataset(\"y_train\", data = np.array(y_train))\n",
        "# data = f.create_dataset(\"y_test\", data = np.array(y_test))\n",
        "\n",
        "data = f.create_dataset(\"times\", data = np.array(times_updated))\n",
        "data = f.create_dataset(\"freqs\", data = np.array(freqs_updated))\n",
        "\n",
        "f.close()"
      ],
      "execution_count": 0,
      "outputs": []
    },
    {
      "cell_type": "code",
      "metadata": {
        "id": "9Mlzg4hXS7TA",
        "colab_type": "code",
        "colab": {}
      },
      "source": [
        "f = h5py.File('My Drive/Stethoscope/13A_data.hdf5', 'a')\n",
        "\n",
        "# data = f.create_dataset(\"times\", data = np.array(actTimes))\n",
        "# data = f.create_dataset(\"freqs\", data = np.array(freqs))\n",
        "data = f.create_dataset(\"times\", data = np.array(times_updated))\n",
        "data = f.create_dataset(\"freqs\", data = np.array(freqs_updated))\n",
        "\n",
        "f.close()"
      ],
      "execution_count": 0,
      "outputs": []
    },
    {
      "cell_type": "markdown",
      "metadata": {
        "id": "4MHbmkwBUlYm",
        "colab_type": "text"
      },
      "source": [
        "Test whether the boxes are interpreted correctly"
      ]
    },
    {
      "cell_type": "code",
      "metadata": {
        "id": "0zzJ8oOrH-E-",
        "colab_type": "code",
        "colab": {}
      },
      "source": [
        "pltFile = usedFiles[0]\n",
        "filePath = fileDir + pltFile\n",
        "audio, rate = sf.read(filePath)\n",
        "\n",
        "# set up\n",
        "plt.figure(figsize=(30, 10))\n",
        "plt.ylabel('Frequency [Hz]')\n",
        "plt.xlabel('Time [sec]')\n",
        "plt.title(\"Spectrogram of the wav file: \" + pltFile)\n",
        "\n",
        "# plot spectrogram\n",
        "freq, t, spec = scipy.signal.spectrogram(audio, rate)\n",
        "plt.pcolormesh(t, freq, spec)\n",
        "# plt.pcolormesh(wholeT, wholeFreq, wholeSpec)\n",
        "\n",
        "# Create Rectangle patches\n",
        "for i in range(len(times)):\n",
        "   if(files[i] == pltFile):\n",
        "      boxTime = times[i]\n",
        "      boxFreq = freqs[i]\n",
        "\n",
        "      # get low and high freq index of the box\n",
        "      low_freq = np.argmin(np.abs(freq - boxFreq[0]))\n",
        "      high_freq = np.argmin(np.abs(freq - boxFreq[1]))\n",
        "      # get start and end time of the box\n",
        "      start = np.argmin(np.abs(t - boxTime[0]))\n",
        "      end = np.argmin(np.abs(t - boxTime[1]))\n",
        "\n",
        "      # adjust the params to cover the whole box\n",
        "      if freq[low_freq] > boxFreq[0]: \n",
        "        low_freq = low_freq -1\n",
        "\n",
        "      if freq[high_freq] < boxFreq[1]: \n",
        "        high_freq = high_freq + 1\n",
        "\n",
        "      if t[start] > boxTime[0]: \n",
        "        start = start - 1\n",
        "\n",
        "      if t[end] < boxTime[1]: \n",
        "        start = start + 1\n",
        "          \n",
        "      ymin = freq[low_freq]/freq[len(freq) -1]\n",
        "      ymax = freq[high_freq]/freq[len(freq) -1]\n",
        "      xmin = t[start]\n",
        "      xmax = t[end]\n",
        "      plt.axvspan(xmin, xmax, ymin=ymin, ymax=ymax, fill = False)"
      ],
      "execution_count": 0,
      "outputs": []
    },
    {
      "cell_type": "code",
      "metadata": {
        "id": "dl-Aiz1hVJCv",
        "colab_type": "code",
        "colab": {}
      },
      "source": [
        ""
      ],
      "execution_count": 0,
      "outputs": []
    }
  ]
}