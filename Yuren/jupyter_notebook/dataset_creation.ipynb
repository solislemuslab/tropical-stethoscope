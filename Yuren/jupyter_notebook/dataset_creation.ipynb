{
  "nbformat": 4,
  "nbformat_minor": 0,
  "metadata": {
    "colab": {
      "name": "dataset_creation.ipynb",
      "provenance": [],
      "collapsed_sections": [],
      "toc_visible": true,
      "machine_shape": "hm"
    },
    "kernelspec": {
      "name": "python3",
      "display_name": "Python 3"
    },
    "accelerator": "TPU"
  },
  "cells": [
    {
      "cell_type": "code",
      "metadata": {
        "id": "S_tNTV43KaGW",
        "colab_type": "code",
        "outputId": "7e705d8c-4e36-48fe-f4ec-fa50885410bf",
        "colab": {
          "base_uri": "https://localhost:8080/",
          "height": 139
        }
      },
      "source": [
        "# !pip install soundfile\n",
        "import os\n",
        "from scipy.io import wavfile\n",
        "import numpy as np\n",
        "import scipy\n",
        "import scipy.signal\n",
        "import soundfile as sf\n",
        "import random\n",
        "import matplotlib.pyplot as plt\n",
        "import matplotlib.patches as patches\n",
        "import csv\n",
        "from collections import namedtuple\n",
        "import datetime\n",
        "import time\n",
        "from google.colab import drive\n",
        "import h5py\n",
        "import cv2\n",
        "from PIL import Image, ImageOps"
      ],
      "execution_count": 0,
      "outputs": [
        {
          "output_type": "stream",
          "text": [
            "Collecting soundfile\n",
            "  Downloading https://files.pythonhosted.org/packages/eb/f2/3cbbbf3b96fb9fa91582c438b574cff3f45b29c772f94c400e2c99ef5db9/SoundFile-0.10.3.post1-py2.py3-none-any.whl\n",
            "Requirement already satisfied: cffi>=1.0 in /usr/local/lib/python3.6/dist-packages (from soundfile) (1.14.0)\n",
            "Requirement already satisfied: pycparser in /usr/local/lib/python3.6/dist-packages (from cffi>=1.0->soundfile) (2.20)\n",
            "Installing collected packages: soundfile\n",
            "Successfully installed soundfile-0.10.3.post1\n"
          ],
          "name": "stdout"
        }
      ]
    },
    {
      "cell_type": "markdown",
      "metadata": {
        "id": "D7-LNEfuOda4",
        "colab_type": "text"
      },
      "source": [
        "# Connect to google drive\n",
        "\n"
      ]
    },
    {
      "cell_type": "code",
      "metadata": {
        "id": "5Lgabz37Kd61",
        "colab_type": "code",
        "outputId": "23ef97ef-2f37-4ee2-8ffb-e066dd24c78e",
        "colab": {
          "base_uri": "https://localhost:8080/",
          "height": 122
        }
      },
      "source": [
        "drive.mount('/content/drive')\n",
        "os.chdir('/content/drive/')"
      ],
      "execution_count": 0,
      "outputs": [
        {
          "output_type": "stream",
          "text": [
            "Go to this URL in a browser: https://accounts.google.com/o/oauth2/auth?client_id=947318989803-6bn6qk8qdgf4n4g3pfee6491hc0brc4i.apps.googleusercontent.com&redirect_uri=urn%3aietf%3awg%3aoauth%3a2.0%3aoob&response_type=code&scope=email%20https%3a%2f%2fwww.googleapis.com%2fauth%2fdocs.test%20https%3a%2f%2fwww.googleapis.com%2fauth%2fdrive%20https%3a%2f%2fwww.googleapis.com%2fauth%2fdrive.photos.readonly%20https%3a%2f%2fwww.googleapis.com%2fauth%2fpeopleapi.readonly\n",
            "\n",
            "Enter your authorization code:\n",
            "··········\n",
            "Mounted at /content/drive\n"
          ],
          "name": "stdout"
        }
      ]
    },
    {
      "cell_type": "markdown",
      "metadata": {
        "id": "Vgw-KnZrO29e",
        "colab_type": "text"
      },
      "source": [
        "# Get the labels <br>\n",
        "Low and highFrequencies are in col 5 and 6. <br>\n",
        "File path is in col 7. <br>\n",
        "Begin clock time is in col 10. <br>\n",
        "Use the start and end clock time (in col 3,4) adding to the begin clock time to decide the time period. <br>\n",
        "Sonotype is in col 11.\n"
      ]
    },
    {
      "cell_type": "code",
      "metadata": {
        "id": "nSQOd48XO0YZ",
        "colab_type": "code",
        "outputId": "39b1379a-ac2c-4fb5-9358-f18579f0e8b3",
        "colab": {
          "base_uri": "https://localhost:8080/",
          "height": 51
        }
      },
      "source": [
        "labelFile = \"Shared drives/Stethoscope for the rainforests/Training data set /Table_13AB.txt\"\n",
        "\n",
        "times = [] \n",
        "freqs = []\n",
        "files = []\n",
        "sonotypes = []\n",
        "\n",
        "with open(labelFile) as file:\n",
        "  label_reader = csv.reader(file, delimiter='\\t')\n",
        "  for row in label_reader:\n",
        "      # not use the first row\n",
        "      if (not row[0].isnumeric()):\n",
        "        continue\n",
        "\n",
        "      # all the recording are either start at 0min or 30mins\n",
        "      timeWeight = [60,1,0.1]\n",
        "      start = sum([a*b for a,b in zip(timeWeight, map(int,row[10].replace('.',\":\").split(':')))]) % 1800\n",
        "      end = start + float(row[4]) - float(row[3])\n",
        "\n",
        "      try:\n",
        "        sonotypes.append(int(row[11]))\n",
        "        times.append([start,end])\n",
        "        freqs.append([float(row[5]), float(row[6])])\n",
        "        files.append(row[7].split(\"\\\\\")[-1]) \n",
        "      except:\n",
        "        # selection number\n",
        "        print(row[0])\n",
        "        pass\n",
        "                \n",
        "\n",
        "print(\"dataset size:  %i\" % len(times))    \n",
        "print(\"filename sample: \" + files[0])"
      ],
      "execution_count": 0,
      "outputs": [
        {
          "output_type": "stream",
          "text": [
            "dataset size:  1467\n",
            "filename sample: 3B_20180607_070500_Dawn_Sunrise_Based.wav\n"
          ],
          "name": "stdout"
        }
      ]
    },
    {
      "cell_type": "markdown",
      "metadata": {
        "id": "SiNlNSgGGK7s",
        "colab_type": "text"
      },
      "source": [
        "# Get the data according to the labels."
      ]
    },
    {
      "cell_type": "code",
      "metadata": {
        "id": "-M1l-rrCOr-9",
        "colab_type": "code",
        "outputId": "ae4a8c94-8411-404e-da1a-e6419f2e271e",
        "colab": {
          "base_uri": "https://localhost:8080/",
          "height": 697
        }
      },
      "source": [
        "# all the sound files\n",
        "fileDir = \"Shared drives/Stethoscope for the rainforests/Sound data/EastKalimantan/13A/\"\n",
        "soundFiles = os.listdir(fileDir)\n",
        "usedFiles = np.intersect1d(soundFiles, files)\n",
        "\n",
        "# get spectrogram data\n",
        "specs = [None] * len(times) #list storing spectrogram data\n",
        "\n",
        "\n",
        "for curFile in usedFiles:\n",
        "  print(\"processing \" + curFile)\n",
        "  filePath = fileDir + curFile\n",
        "  audio, rate = sf.read(filePath)\n",
        "\n",
        "  # plot the spectrogram\n",
        "  freq, t, spec = scipy.signal.spectrogram(audio, rate)\n",
        "  for i in range(len(files)):\n",
        "    if(files[i] == curFile):\n",
        "      boxTime = times[i]\n",
        "      boxFreq = freqs[i]\n",
        "\n",
        "      # get low and high freq index of the box\n",
        "      low_freq = np.argmin(np.abs(freq - boxFreq[0]))\n",
        "      high_freq = np.argmin(np.abs(freq - boxFreq[1]))\n",
        "      # get start and end time of the box\n",
        "      start = np.argmin(np.abs(t - boxTime[0]))\n",
        "      end = np.argmin(np.abs(t - boxTime[1]))\n",
        "\n",
        "      # adjust the params to cover the whole box\n",
        "      if freq[low_freq] > boxFreq[0]: \n",
        "        low_freq = low_freq -1\n",
        "\n",
        "      if freq[high_freq] < boxFreq[1]: \n",
        "        high_freq = high_freq + 1\n",
        "\n",
        "      if t[start] > boxTime[0]: \n",
        "        start = start - 1\n",
        "\n",
        "      if t[end] < boxTime[1]: \n",
        "        start = start + 1\n",
        "\n",
        "      specs[i] = spec[low_freq:high_freq, start:end]\n",
        "      # boxFreqPlt = freq[low_freq: high_freq]\n",
        "      # boxTPlt = t[start:end]\n"
      ],
      "execution_count": 0,
      "outputs": [
        {
          "output_type": "stream",
          "text": [
            "processing 20180710_060000_13A_24H [1.4452 116.9811].wav\n",
            "processing 20180710_093000_13A_24H [1.4452 116.9811].wav\n",
            "processing 20180710_100000_13A_24H [1.4452 116.9811].wav\n",
            "processing 20180710_180000_13A_24H [1.4452 116.9811].wav\n",
            "processing 20180809_060000_13A_24H [1.4452 116.9811].wav\n",
            "processing 20180809_180000_13A_24H [1.4452 116.9811].wav\n",
            "processing 20180908_060000_13A_24H [1.4452 116.9811].wav\n",
            "processing 20180908_170000_13A_24H [1.4452 116.9811].wav\n",
            "processing 20180908_173000_13A_24H [1.4452 116.9811].wav\n",
            "processing 20180908_180000_13A_24H [1.4452 116.9811].wav\n",
            "processing 20181008_060000_13A_24H [1.4452 116.9811].wav\n",
            "processing 20181008_100000_13A_24H [1.4452 116.9811].wav\n",
            "processing 20181008_173000_13A_24H [1.4452 116.9811].wav\n",
            "processing 20181107_060000_13A_24H [1.4452 116.9811].wav\n",
            "processing 20181107_103000_13A_24H [1.4452 116.9811].wav\n",
            "processing 20181107_173000_13A_24H [1.4452 116.9811].wav\n",
            "processing 20181107_180000_13A_24H [1.4452 116.9811].wav\n",
            "processing 20181107_183000_13A_24H [1.4452 116.9811].wav\n",
            "processing 20181207_050000_13A_24H [1.4452 116.9811].wav\n",
            "processing 20181207_053000_13A_24H [1.4452 116.9811].wav\n",
            "processing 20181207_060000_13A_24H [1.4452 116.9811].wav\n",
            "processing 20181207_173000_13A_24H [1.4452 116.9811].wav\n",
            "processing 20181207_180000_13A_24H [1.4452 116.9811].wav\n",
            "processing 20190106_060000_13A_24H [1.4452 116.9811].wav\n",
            "processing 20190106_180000_13A_24H [1.4452 116.9811].wav\n",
            "processing 20190205_063000_13A_24H [1.4438 116.9805].wav\n",
            "processing 20190205_180000_13A_24H [1.4438 116.9805].wav\n",
            "processing 20190207_062400_Dawn_Sunrise_Based [13B_.4444 116.9808].wav\n",
            "processing 20190207_175800_Dusk_SunsetBased [13B_.4444 116.9808].wav\n",
            "processing 20190307_060000_13A_24H [1.4438 116.9805].wav\n",
            "processing 20190307_180000_13A_24H [1.4438 116.9805].wav\n",
            "processing 20190406_060000_13A_24H [1.4438 116.9805].wav\n",
            "processing 20190406_180000_13A_24H [1.4438 116.9805].wav\n",
            "processing 20190506_053000_13A_24H [1.4438 116.9805].wav\n",
            "processing 20190506_060000_13A_24H [1.4438 116.9805].wav\n",
            "processing 20190506_180000_13A_24H [1.4438 116.9805].wav\n",
            "processing 20190605_060000_13A_24H [1.4438 116.9805].wav\n",
            "processing 20190605_180000_13A_24H [1.4438 116.9805].wav\n",
            "processing 20190606_060400_Dawn_Sunrise_Based [13B_.4444 116.9808].wav\n",
            "processing 3B_20180607_070500_Dawn_Sunrise_Based.wav\n"
          ],
          "name": "stdout"
        }
      ]
    },
    {
      "cell_type": "markdown",
      "metadata": {
        "id": "tj5FpDkzwuvh",
        "colab_type": "text"
      },
      "source": [
        "# Resize the data"
      ]
    },
    {
      "cell_type": "code",
      "metadata": {
        "id": "NniqC-ifww3-",
        "colab_type": "code",
        "outputId": "406e3287-187f-47b7-97df-2b5094ff0743",
        "colab": {
          "base_uri": "https://localhost:8080/",
          "height": 51
        }
      },
      "source": [
        "specs_resized = []\n",
        "# for some sound not found\n",
        "freqs_updated = []\n",
        "times_updated = []\n",
        "sonotypes_updated = []\n",
        "\n",
        "for i in range(len(files)):\n",
        "  if specs[i] is not None:\n",
        "    spec_resized=cv2.resize(specs[i],(224,224))\n",
        "    spec_resized=cv2.cvtColor(spec_resized.astype('float32'), cv2.COLOR_BGR2RGB) #cv2 does not accept float64\n",
        "    \n",
        "    specs_resized.append(np.array(spec_resized).reshape((3,224,224)))\n",
        "    freqs_updated.append(freqs[i])\n",
        "    times_updated.append(times[i])\n",
        "    sonotypes_updated.append(sonotypes[i])\n",
        "  \n",
        "print(specs_resized[0].shape)"
      ],
      "execution_count": 0,
      "outputs": [
        {
          "output_type": "stream",
          "text": [
            "ERROR! Session/line number was not unique in database. History logging moved to new session 65\n",
            "(3, 224, 224)\n"
          ],
          "name": "stdout"
        }
      ]
    },
    {
      "cell_type": "markdown",
      "metadata": {
        "id": "Qx20qhoOcW1T",
        "colab_type": "text"
      },
      "source": [
        "# Store data to H5 data storage "
      ]
    },
    {
      "cell_type": "code",
      "metadata": {
        "id": "CT5Li24FcWLE",
        "colab_type": "code",
        "colab": {}
      },
      "source": [
        "with h5py.File('My Drive/Stethoscope/13A_data.hdf5', 'w') as f:\n",
        "  data = f.create_dataset(\"specs\", data = np.array(specs_resized))\n",
        "  data = f.create_dataset(\"sonotypes\", data = np.array(sonotypes_updated))\n",
        "  data = f.create_dataset(\"freqs\", data = np.array(freqs_updated))\n",
        "  data = f.create_dataset(\"times\", data = np.array(times_updated))"
      ],
      "execution_count": 0,
      "outputs": []
    },
    {
      "cell_type": "markdown",
      "metadata": {
        "id": "3VxBGTQaZL10",
        "colab_type": "text"
      },
      "source": [
        "Classifies the datas based on sonotypes <br>\n",
        "There are 251 sonotypes currently. <br>\n",
        "\n",
        "Stored in the dictionary with key = sonotype and value = [spec1, spec2,....]"
      ]
    },
    {
      "cell_type": "markdown",
      "metadata": {
        "id": "Mg5Yp1FEtDEz",
        "colab_type": "text"
      },
      "source": [
        "# **Misc**\n",
        "\n",
        "## tests and others"
      ]
    },
    {
      "cell_type": "code",
      "metadata": {
        "id": "yogD-Fh9iV_a",
        "colab_type": "code",
        "outputId": "a2ce5617-4642-4d25-e909-7f50f1430aba",
        "colab": {
          "base_uri": "https://localhost:8080/",
          "height": 51
        }
      },
      "source": [
        "check whether data are stored in the hdf5\n",
        "with h5py.File('My Drive/Stethoscope/13A_data.hdf5', 'r+') as f:\n",
        "    x_val = np.array(f[\"specs\"])\n",
        "    x_value = np.array(f['sonotypes'])\n",
        "    x_freq = np.array(f[\"freqs\"])"
      ],
      "execution_count": 0,
      "outputs": [
        {
          "output_type": "stream",
          "text": [
            "[1, 1, 1, 1, 136, 40, 40, 41, 25, 25, 42]\n",
            "[  1   1   1   1 136  40  40  41  25  25  42]\n"
          ],
          "name": "stdout"
        }
      ]
    },
    {
      "cell_type": "code",
      "metadata": {
        "id": "gziFiFH9Uk7s",
        "colab_type": "code",
        "outputId": "981afc48-2426-48a4-da96-5330b5852dc4",
        "colab": {
          "base_uri": "https://localhost:8080/",
          "height": 34
        }
      },
      "source": [
        "# number_type = np.max(sonotypes)\n",
        "# print(number_type)\n",
        "\n",
        "data = {}\n",
        "for i in range(len(specs_resized)):\n",
        "  if sonotypes[i] in data:\n",
        "    data[sonotypes[i]].append(specs_resized[i])\n",
        "  else:\n",
        "    data[sonotypes[i]] = [specs_resized[i]]\n",
        "\n",
        "print(\"dictionary size: %i\" % len(data))  "
      ],
      "execution_count": 0,
      "outputs": [
        {
          "output_type": "stream",
          "text": [
            "dictionary size: 251\n"
          ],
          "name": "stdout"
        }
      ]
    },
    {
      "cell_type": "markdown",
      "metadata": {
        "id": "mKV9jIZ0o_tq",
        "colab_type": "text"
      },
      "source": [
        "Resize spectrograms to 224 * 224 * 3, test whether look the same to the original spectrogram."
      ]
    },
    {
      "cell_type": "code",
      "metadata": {
        "id": "SqEUTVwyo_-Y",
        "colab_type": "code",
        "outputId": "1881519f-0005-45be-899b-60ac8ecbb70f",
        "colab": {
          "base_uri": "https://localhost:8080/",
          "height": 320
        }
      },
      "source": [
        "index = random.randint(0, len(freqs) - 1)\n",
        "print(\"spec number: %d\" % index)\n",
        "print(\"sonotype: %d\" % sonotypes[index])\n",
        "\n",
        "# file=cv2.cvtColor(specs[index].astype('uint8'), cv2.COLOR_BGR2RGB)\n",
        "file=cv2.cvtColor(specs[index].astype('float32'), cv2.COLOR_BGR2RGB)\n",
        "\n",
        "file=cv2.resize(file,(224,224))\n",
        "\n",
        "print(file.shape)\n",
        "plt.imshow(file[:,:,1])\n",
        "plt.show()"
      ],
      "execution_count": 0,
      "outputs": [
        {
          "output_type": "stream",
          "text": [
            "spec number: 71\n",
            "sonotype: 32\n",
            "(224, 224, 3)\n"
          ],
          "name": "stdout"
        },
        {
          "output_type": "display_data",
          "data": {
            "image/png": "[encoded data removed]",
            "text/plain": [
              "<Figure size 432x288 with 1 Axes>"
            ]
          },
          "metadata": {
            "tags": []
          }
        }
      ]
    },
    {
      "cell_type": "code",
      "metadata": {
        "id": "eWBB5CvQtSoq",
        "colab_type": "code",
        "outputId": "4668e23c-80fc-4053-9c99-709e73273c0f",
        "colab": {
          "base_uri": "https://localhost:8080/",
          "height": 384
        }
      },
      "source": [
        "# compute the data for the spectrogram\n",
        "print(\"spec number: %d\" % index)\n",
        "ranFile = files[index]\n",
        "fileDir = \"Shared drives/Stethoscope for the rainforests/Sound data/EastKalimantan/13A/\"\n",
        "ranFilePath = fileDir + curFile\n",
        "audio, rate = sf.read(ranFilePath)\n",
        "freq, t, spec = scipy.signal.spectrogram(audio, rate)\n",
        "\n",
        "# get low and high freq index of the box\n",
        "boxTime = times[index]\n",
        "boxFreq = freqs[index]\n",
        "\n",
        "# get low and high freq index of the box\n",
        "low_freq = np.argmin(np.abs(freq - boxFreq[0]))\n",
        "high_freq = np.argmin(np.abs(freq - boxFreq[1]))\n",
        "# get start and end time of the box\n",
        "start = np.argmin(np.abs(t - boxTime[0]))\n",
        "end = np.argmin(np.abs(t - boxTime[1]))\n",
        "\n",
        "# adjust the params to cover the whole box\n",
        "if freq[low_freq] > boxFreq[0]: \n",
        "  low_freq = low_freq -1\n",
        "\n",
        "if freq[high_freq] < boxFreq[1]: \n",
        "  high_freq = high_freq + 1\n",
        "\n",
        "if t[start] > boxTime[0]: \n",
        "  start = start - 1\n",
        "\n",
        "if t[end] < boxTime[1]: \n",
        "  start = start + 1\n",
        "\n",
        "boxSpecPlt = spec[low_freq:high_freq, start:end]\n",
        "boxFreqPlt = freq[low_freq: high_freq]\n",
        "boxTPlt = t[start:end]\n",
        "\n",
        "# plot the spectrogram\n",
        "# set up\n",
        "plt.figure(figsize=(15, 5))\n",
        "plt.ylabel('Frequency [Hz]')\n",
        "plt.xlabel('Time [sec]')\n",
        "plt.title(\"Spectrogram for a random box\")\n",
        "\n",
        "# plot\n",
        "plt.pcolormesh(boxTPlt, boxFreqPlt, boxSpecPlt)\n",
        "plt.colorbar()"
      ],
      "execution_count": 0,
      "outputs": [
        {
          "output_type": "stream",
          "text": [
            "spec number: 71\n"
          ],
          "name": "stdout"
        },
        {
          "output_type": "execute_result",
          "data": {
            "text/plain": [
              "<matplotlib.colorbar.Colorbar at 0x7f597d235940>"
            ]
          },
          "metadata": {
            "tags": []
          },
          "execution_count": 48
        },
        {
          "output_type": "display_data",
          "data": {
            "image/png": "[encoded data removed]",
            "text/plain": [
              "<Figure size 1080x360 with 2 Axes>"
            ]
          },
          "metadata": {
            "tags": []
          }
        }
      ]
    },
    {
      "cell_type": "markdown",
      "metadata": {
        "id": "4MHbmkwBUlYm",
        "colab_type": "text"
      },
      "source": [
        "Test whether the boxes are interpreted correctly"
      ]
    },
    {
      "cell_type": "code",
      "metadata": {
        "id": "0zzJ8oOrH-E-",
        "colab_type": "code",
        "colab": {}
      },
      "source": [
        "pltFile = usedFiles[0]\n",
        "filePath = fileDir + pltFile\n",
        "audio, rate = sf.read(filePath)\n",
        "\n",
        "# set up\n",
        "plt.figure(figsize=(30, 10))\n",
        "plt.ylabel('Frequency [Hz]')\n",
        "plt.xlabel('Time [sec]')\n",
        "plt.title(\"Spectrogram of the wav file: \" + pltFile)\n",
        "\n",
        "# plot spectrogram\n",
        "freq, t, spec = scipy.signal.spectrogram(audio, rate)\n",
        "plt.pcolormesh(t, freq, spec)\n",
        "# plt.pcolormesh(wholeT, wholeFreq, wholeSpec)\n",
        "\n",
        "# Create Rectangle patches\n",
        "for i in range(len(times)):\n",
        "   if(files[i] == pltFile):\n",
        "      boxTime = times[i]\n",
        "      boxFreq = freqs[i]\n",
        "\n",
        "      # get low and high freq index of the box\n",
        "      low_freq = np.argmin(np.abs(freq - boxFreq[0]))\n",
        "      high_freq = np.argmin(np.abs(freq - boxFreq[1]))\n",
        "      # get start and end time of the box\n",
        "      start = np.argmin(np.abs(t - boxTime[0]))\n",
        "      end = np.argmin(np.abs(t - boxTime[1]))\n",
        "\n",
        "      # adjust the params to cover the whole box\n",
        "      if freq[low_freq] > boxFreq[0]: \n",
        "        low_freq = low_freq -1\n",
        "\n",
        "      if freq[high_freq] < boxFreq[1]: \n",
        "        high_freq = high_freq + 1\n",
        "\n",
        "      if t[start] > boxTime[0]: \n",
        "        start = start - 1\n",
        "\n",
        "      if t[end] < boxTime[1]: \n",
        "        start = start + 1\n",
        "          \n",
        "      ymin = freq[low_freq]/freq[len(freq) -1]\n",
        "      ymax = freq[high_freq]/freq[len(freq) -1]\n",
        "      xmin = t[start]\n",
        "      xmax = t[end]\n",
        "      plt.axvspan(xmin, xmax, ymin=ymin, ymax=ymax, fill = False)"
      ],
      "execution_count": 0,
      "outputs": []
    },
    {
      "cell_type": "code",
      "metadata": {
        "id": "dl-Aiz1hVJCv",
        "colab_type": "code",
        "colab": {}
      },
      "source": [
        ""
      ],
      "execution_count": 0,
      "outputs": []
    }
  ]
}