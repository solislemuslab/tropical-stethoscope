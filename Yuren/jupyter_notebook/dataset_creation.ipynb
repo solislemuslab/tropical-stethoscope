{
  "nbformat": 4,
  "nbformat_minor": 0,
  "metadata": {
    "colab": {
      "name": "dataset_creation.ipynb",
      "provenance": [],
      "collapsed_sections": [],
      "toc_visible": true,
      "machine_shape": "hm"
    },
    "kernelspec": {
      "name": "python3",
      "display_name": "Python 3"
    }
  },
  "cells": [
    {
      "cell_type": "code",
      "metadata": {
        "id": "S_tNTV43KaGW",
        "colab_type": "code",
        "colab": {}
      },
      "source": [
        "# !pip install soundfile\n",
        "import os\n",
        "from scipy.io import wavfile\n",
        "import numpy as np\n",
        "import scipy\n",
        "import scipy.signal\n",
        "import soundfile as sf\n",
        "import random\n",
        "import matplotlib.pyplot as plt\n",
        "import matplotlib.patches as patches\n",
        "import csv\n",
        "from collections import namedtuple\n",
        "import datetime\n",
        "import time\n",
        "from google.colab import drive\n",
        "import h5py\n",
        "import cv2\n",
        "from PIL import Image, ImageOps"
      ],
      "execution_count": 0,
      "outputs": []
    },
    {
      "cell_type": "markdown",
      "metadata": {
        "id": "D7-LNEfuOda4",
        "colab_type": "text"
      },
      "source": [
        "# Connect to google drive\n",
        "\n"
      ]
    },
    {
      "cell_type": "code",
      "metadata": {
        "id": "5Lgabz37Kd61",
        "colab_type": "code",
        "outputId": "158e3264-6e3e-47a5-a876-ab09b17f23fa",
        "colab": {
          "base_uri": "https://localhost:8080/",
          "height": 34
        }
      },
      "source": [
        "drive.mount('/content/drive')\n",
        "os.chdir('/content/drive/')"
      ],
      "execution_count": 3,
      "outputs": [
        {
          "output_type": "stream",
          "text": [
            "Drive already mounted at /content/drive; to attempt to forcibly remount, call drive.mount(\"/content/drive\", force_remount=True).\n"
          ],
          "name": "stdout"
        }
      ]
    },
    {
      "cell_type": "markdown",
      "metadata": {
        "id": "Vgw-KnZrO29e",
        "colab_type": "text"
      },
      "source": [
        "# Get the labels <br>\n",
        "Low and highFrequencies are in col 5 and 6. <br>\n",
        "File path is in col 7. <br>\n",
        "Begin clock time is in col 10. <br>\n",
        "Use the start and end clock time (in col 3,4) adding to the begin clock time to decide the time period. <br>\n",
        "Sonotype is in col 11.\n",
        "\n",
        "Q: Selection 269, 377, 1157, 1428, sonotype is alphabet? <br>\n",
        "\n",
        "269\tSpectrogram 1\t1\t153655.481400000\t153697.202500000\t530.949\t991.625\tC:\\Users\\Tatiana\\Documents\\Sound Forest Lab\\taxon_group_recordings\\13A\\13A_audios\\20180809_180000_13A_24H [1.4452 116.9811].wav\t2018/8/9\t41.7211\t18:18:00.4814\tA\t-\t0\n"
      ]
    },
    {
      "cell_type": "code",
      "metadata": {
        "id": "nSQOd48XO0YZ",
        "colab_type": "code",
        "outputId": "1394928a-56c5-4afc-82e7-acf80bcfc097",
        "colab": {
          "base_uri": "https://localhost:8080/",
          "height": 119
        }
      },
      "source": [
        "labelFile = \"Shared drives/Stethoscope for the rainforests/Training data set /Table_13A_10.txt\"\n",
        "\n",
        "times = [] \n",
        "freqs = []\n",
        "files = []\n",
        "sonotypes = []\n",
        "\n",
        "with open(labelFile) as file:\n",
        "  label_reader = csv.reader(file, delimiter='\\t')\n",
        "  for row in label_reader:\n",
        "      # not use the first row\n",
        "      if (not row[0].isnumeric()):\n",
        "        continue\n",
        "\n",
        "      # all the recording are either start at 0min or 30mins\n",
        "      timeWeight = [60,1,0.1]\n",
        "      start = sum([a*b for a,b in zip(timeWeight, map(int,row[10].replace('.',\":\").split(':')))]) % 1800\n",
        "      end = start + float(row[4]) - float(row[3])\n",
        "\n",
        "      try:\n",
        "        sonotypes.append(int(row[11]))\n",
        "        times.append([start,end])\n",
        "        freqs.append([float(row[5]), float(row[6])])\n",
        "        files.append(row[7].split(\"\\\\\")[-1]) \n",
        "      except:\n",
        "        # selection number\n",
        "        print(row[0])\n",
        "        pass\n",
        "\n",
        "print(\"dataset size:  %i\" % len(times))    \n",
        "print(\"filename sample: \" + files[0])"
      ],
      "execution_count": 4,
      "outputs": [
        {
          "output_type": "stream",
          "text": [
            "269\n",
            "377\n",
            "1157\n",
            "1428\n",
            "dataset size:  1233\n",
            "filename sample: 3B_20180607_070500_Dawn_Sunrise_Based.wav\n"
          ],
          "name": "stdout"
        }
      ]
    },
    {
      "cell_type": "markdown",
      "metadata": {
        "id": "SiNlNSgGGK7s",
        "colab_type": "text"
      },
      "source": [
        "# Get the data according to the labels."
      ]
    },
    {
      "cell_type": "code",
      "metadata": {
        "id": "-M1l-rrCOr-9",
        "colab_type": "code",
        "outputId": "3ad8b0c0-e96f-4709-c676-312bb0ff7f0e",
        "colab": {
          "base_uri": "https://localhost:8080/",
          "height": 442
        }
      },
      "source": [
        "# all the sound files\n",
        "fileDir = \"Shared drives/Stethoscope for the rainforests/Sound data/EastKalimantan/13A/\"\n",
        "soundFiles = os.listdir(fileDir)\n",
        "usedFiles = np.intersect1d(soundFiles, files)\n",
        "\n",
        "# get spectrogram data\n",
        "specs = [None] * len(times) #list storing spectrogram data\n",
        "\n",
        "for curFile in usedFiles:\n",
        "  print(\"processing \" + curFile)\n",
        "  filePath = fileDir + curFile\n",
        "  audio, rate = sf.read(filePath)\n",
        "\n",
        "  # plot the spectrogram\n",
        "  freq, t, spec = scipy.signal.spectrogram(audio, rate)\n",
        "  for i in range(len(files)):\n",
        "    if(files[i] == curFile):\n",
        "      boxTime = times[i]\n",
        "      boxFreq = freqs[i]\n",
        "\n",
        "      # get low and high freq index of the box\n",
        "      low_freq = np.argmin(np.abs(freq - boxFreq[0]))\n",
        "      high_freq = np.argmin(np.abs(freq - boxFreq[1]))\n",
        "      # get start and end time of the box\n",
        "      start = np.argmin(np.abs(t - boxTime[0]))\n",
        "      end = np.argmin(np.abs(t - boxTime[1]))\n",
        "\n",
        "      # adjust the params to cover the whole box\n",
        "      if freq[low_freq] > boxFreq[0]: \n",
        "        low_freq = low_freq -1\n",
        "\n",
        "      if freq[high_freq] < boxFreq[1]: \n",
        "        high_freq = high_freq + 1\n",
        "\n",
        "      if t[start] > boxTime[0]: \n",
        "        start = start - 1\n",
        "\n",
        "      if t[end] < boxTime[1]: \n",
        "        start = start + 1\n",
        "\n",
        "      specs[i] = spec[low_freq:high_freq, start:end]\n",
        "      # boxFreqPlt = freq[low_freq: high_freq]\n",
        "      # boxTPlt = t[start:end]\n"
      ],
      "execution_count": 5,
      "outputs": [
        {
          "output_type": "stream",
          "text": [
            "processing 20180710_060000_13A_24H [1.4452 116.9811].wav\n",
            "processing 20180710_180000_13A_24H [1.4452 116.9811].wav\n",
            "processing 20180809_060000_13A_24H [1.4452 116.9811].wav\n",
            "processing 20180809_180000_13A_24H [1.4452 116.9811].wav\n",
            "processing 20180908_060000_13A_24H [1.4452 116.9811].wav\n",
            "processing 20180908_180000_13A_24H [1.4452 116.9811].wav\n",
            "processing 20181008_060000_13A_24H [1.4452 116.9811].wav\n",
            "processing 20181008_173000_13A_24H [1.4452 116.9811].wav\n",
            "processing 20181107_060000_13A_24H [1.4452 116.9811].wav\n",
            "processing 20181107_173000_13A_24H [1.4452 116.9811].wav\n",
            "processing 20181207_060000_13A_24H [1.4452 116.9811].wav\n",
            "processing 20181207_173000_13A_24H [1.4452 116.9811].wav\n",
            "processing 20190106_060000_13A_24H [1.4452 116.9811].wav\n",
            "processing 20190106_180000_13A_24H [1.4452 116.9811].wav\n",
            "processing 20190205_063000_13A_24H [1.4438 116.9805].wav\n",
            "processing 20190205_180000_13A_24H [1.4438 116.9805].wav\n",
            "processing 20190307_060000_13A_24H [1.4438 116.9805].wav\n",
            "processing 20190307_180000_13A_24H [1.4438 116.9805].wav\n",
            "processing 20190406_060000_13A_24H [1.4438 116.9805].wav\n",
            "processing 20190406_180000_13A_24H [1.4438 116.9805].wav\n",
            "processing 20190506_060000_13A_24H [1.4438 116.9805].wav\n",
            "processing 20190506_180000_13A_24H [1.4438 116.9805].wav\n",
            "processing 20190605_060000_13A_24H [1.4438 116.9805].wav\n",
            "processing 20190605_180000_13A_24H [1.4438 116.9805].wav\n",
            "processing 3B_20180607_070500_Dawn_Sunrise_Based.wav\n"
          ],
          "name": "stdout"
        }
      ]
    },
    {
      "cell_type": "markdown",
      "metadata": {
        "id": "tj5FpDkzwuvh",
        "colab_type": "text"
      },
      "source": [
        "# Resize the data"
      ]
    },
    {
      "cell_type": "code",
      "metadata": {
        "id": "NniqC-ifww3-",
        "colab_type": "code",
        "colab": {
          "base_uri": "https://localhost:8080/",
          "height": 51
        },
        "outputId": "6bcb289e-ab19-4e79-8160-3dedd4707eb4"
      },
      "source": [
        "specs_resized = []\n",
        "\n",
        "for spec in specs:\n",
        "  spec_resized=cv2.resize(spec,(224,224))\n",
        "  spec_resized=cv2.cvtColor(spec_resized.astype('float32'), cv2.COLOR_BGR2RGB) #cv2 does not accept float64\n",
        "  specs_resized.append(np.array(spec_resized).reshape((3,224,224)))\n",
        "  \n",
        "print(specs_resized[0].shape)"
      ],
      "execution_count": 21,
      "outputs": [
        {
          "output_type": "stream",
          "text": [
            "(3, 224, 224)\n",
            "1233\n"
          ],
          "name": "stdout"
        }
      ]
    },
    {
      "cell_type": "markdown",
      "metadata": {
        "id": "Qx20qhoOcW1T",
        "colab_type": "text"
      },
      "source": [
        "# Store data to H5 data storage "
      ]
    },
    {
      "cell_type": "code",
      "metadata": {
        "id": "CT5Li24FcWLE",
        "colab_type": "code",
        "outputId": "4c7205d8-28cf-4577-e7d1-de8a4d172074",
        "colab": {
          "base_uri": "https://localhost:8080/",
          "height": 467
        }
      },
      "source": [
        "with h5py.File('My Drive/Stethoscope/13A_data.hdf5', 'w') as f:\n",
        "  for i in range(len(specs_resized)):\n",
        "    # f.create_dataset(sonotypes[i], data=np.array(specs[i], dtype= np.float64))\n",
        "    data = f.create_dataset(str(sonotypes[i]), np.aay(specs_resized[i].flatten()))"
      ],
      "execution_count": 27,
      "outputs": [
        {
          "output_type": "error",
          "ename": "ValueError",
          "evalue": "ignored",
          "traceback": [
            "\u001b[0;31m---------------------------------------------------------------------------\u001b[0m",
            "\u001b[0;31mValueError\u001b[0m                                Traceback (most recent call last)",
            "\u001b[0;32m<ipython-input-27-0ccd9845df63>\u001b[0m in \u001b[0;36m<module>\u001b[0;34m()\u001b[0m\n\u001b[1;32m      2\u001b[0m   \u001b[0;32mfor\u001b[0m \u001b[0mi\u001b[0m \u001b[0;32min\u001b[0m \u001b[0mrange\u001b[0m\u001b[0;34m(\u001b[0m\u001b[0mlen\u001b[0m\u001b[0;34m(\u001b[0m\u001b[0mspecs_resized\u001b[0m\u001b[0;34m)\u001b[0m\u001b[0;34m)\u001b[0m\u001b[0;34m:\u001b[0m\u001b[0;34m\u001b[0m\u001b[0;34m\u001b[0m\u001b[0m\n\u001b[1;32m      3\u001b[0m     \u001b[0;31m# f.create_dataset(sonotypes[i], data=np.array(specs[i], dtype= np.float64))\u001b[0m\u001b[0;34m\u001b[0m\u001b[0;34m\u001b[0m\u001b[0;34m\u001b[0m\u001b[0m\n\u001b[0;32m----> 4\u001b[0;31m     \u001b[0mdata\u001b[0m \u001b[0;34m=\u001b[0m \u001b[0mf\u001b[0m\u001b[0;34m.\u001b[0m\u001b[0mcreate_dataset\u001b[0m\u001b[0;34m(\u001b[0m\u001b[0mstr\u001b[0m\u001b[0;34m(\u001b[0m\u001b[0msonotypes\u001b[0m\u001b[0;34m[\u001b[0m\u001b[0mi\u001b[0m\u001b[0;34m]\u001b[0m\u001b[0;34m)\u001b[0m\u001b[0;34m,\u001b[0m \u001b[0mnp\u001b[0m\u001b[0;34m.\u001b[0m\u001b[0marray\u001b[0m\u001b[0;34m(\u001b[0m\u001b[0mspecs_resized\u001b[0m\u001b[0;34m[\u001b[0m\u001b[0mi\u001b[0m\u001b[0;34m]\u001b[0m\u001b[0;34m.\u001b[0m\u001b[0mflatten\u001b[0m\u001b[0;34m(\u001b[0m\u001b[0;34m)\u001b[0m\u001b[0;34m)\u001b[0m\u001b[0;34m)\u001b[0m\u001b[0;34m\u001b[0m\u001b[0;34m\u001b[0m\u001b[0m\n\u001b[0m",
            "\u001b[0;32m/usr/local/lib/python3.6/dist-packages/h5py/_hl/group.py\u001b[0m in \u001b[0;36mcreate_dataset\u001b[0;34m(self, name, shape, dtype, data, **kwds)\u001b[0m\n\u001b[1;32m    114\u001b[0m         \"\"\"\n\u001b[1;32m    115\u001b[0m         \u001b[0;32mwith\u001b[0m \u001b[0mphil\u001b[0m\u001b[0;34m:\u001b[0m\u001b[0;34m\u001b[0m\u001b[0;34m\u001b[0m\u001b[0m\n\u001b[0;32m--> 116\u001b[0;31m             \u001b[0mdsid\u001b[0m \u001b[0;34m=\u001b[0m \u001b[0mdataset\u001b[0m\u001b[0;34m.\u001b[0m\u001b[0mmake_new_dset\u001b[0m\u001b[0;34m(\u001b[0m\u001b[0mself\u001b[0m\u001b[0;34m,\u001b[0m \u001b[0mshape\u001b[0m\u001b[0;34m,\u001b[0m \u001b[0mdtype\u001b[0m\u001b[0;34m,\u001b[0m \u001b[0mdata\u001b[0m\u001b[0;34m,\u001b[0m \u001b[0;34m**\u001b[0m\u001b[0mkwds\u001b[0m\u001b[0;34m)\u001b[0m\u001b[0;34m\u001b[0m\u001b[0;34m\u001b[0m\u001b[0m\n\u001b[0m\u001b[1;32m    117\u001b[0m             \u001b[0mdset\u001b[0m \u001b[0;34m=\u001b[0m \u001b[0mdataset\u001b[0m\u001b[0;34m.\u001b[0m\u001b[0mDataset\u001b[0m\u001b[0;34m(\u001b[0m\u001b[0mdsid\u001b[0m\u001b[0;34m)\u001b[0m\u001b[0;34m\u001b[0m\u001b[0;34m\u001b[0m\u001b[0m\n\u001b[1;32m    118\u001b[0m             \u001b[0;32mif\u001b[0m \u001b[0mname\u001b[0m \u001b[0;32mis\u001b[0m \u001b[0;32mnot\u001b[0m \u001b[0;32mNone\u001b[0m\u001b[0;34m:\u001b[0m\u001b[0;34m\u001b[0m\u001b[0;34m\u001b[0m\u001b[0m\n",
            "\u001b[0;32m/usr/local/lib/python3.6/dist-packages/h5py/_hl/dataset.py\u001b[0m in \u001b[0;36mmake_new_dset\u001b[0;34m(parent, shape, dtype, data, chunks, compression, shuffle, fletcher32, maxshape, compression_opts, fillvalue, scaleoffset, track_times)\u001b[0m\n\u001b[1;32m    135\u001b[0m         \u001b[0msid\u001b[0m \u001b[0;34m=\u001b[0m \u001b[0mh5s\u001b[0m\u001b[0;34m.\u001b[0m\u001b[0mcreate\u001b[0m\u001b[0;34m(\u001b[0m\u001b[0mh5s\u001b[0m\u001b[0;34m.\u001b[0m\u001b[0mNULL\u001b[0m\u001b[0;34m)\u001b[0m\u001b[0;34m\u001b[0m\u001b[0;34m\u001b[0m\u001b[0m\n\u001b[1;32m    136\u001b[0m     \u001b[0;32melse\u001b[0m\u001b[0;34m:\u001b[0m\u001b[0;34m\u001b[0m\u001b[0;34m\u001b[0m\u001b[0m\n\u001b[0;32m--> 137\u001b[0;31m         \u001b[0msid\u001b[0m \u001b[0;34m=\u001b[0m \u001b[0mh5s\u001b[0m\u001b[0;34m.\u001b[0m\u001b[0mcreate_simple\u001b[0m\u001b[0;34m(\u001b[0m\u001b[0mshape\u001b[0m\u001b[0;34m,\u001b[0m \u001b[0mmaxshape\u001b[0m\u001b[0;34m)\u001b[0m\u001b[0;34m\u001b[0m\u001b[0;34m\u001b[0m\u001b[0m\n\u001b[0m\u001b[1;32m    138\u001b[0m \u001b[0;34m\u001b[0m\u001b[0m\n\u001b[1;32m    139\u001b[0m \u001b[0;34m\u001b[0m\u001b[0m\n",
            "\u001b[0;32mh5py/_objects.pyx\u001b[0m in \u001b[0;36mh5py._objects.with_phil.wrapper\u001b[0;34m()\u001b[0m\n",
            "\u001b[0;32mh5py/_objects.pyx\u001b[0m in \u001b[0;36mh5py._objects.with_phil.wrapper\u001b[0;34m()\u001b[0m\n",
            "\u001b[0;32mh5py/h5s.pyx\u001b[0m in \u001b[0;36mh5py.h5s.create_simple\u001b[0;34m()\u001b[0m\n",
            "\u001b[0;31mValueError\u001b[0m: Dimensionality is too large (dimensionality is too large)"
          ]
        }
      ]
    },
    {
      "cell_type": "markdown",
      "metadata": {
        "id": "3VxBGTQaZL10",
        "colab_type": "text"
      },
      "source": [
        "Classifies the datas based on sonotypes <br>\n",
        "There are 251 sonotypes currently. <br>\n",
        "\n",
        "Stored in the dictionary with key = sonotype and value = [spec1, spec2,....]\n",
        "\n",
        "Q: max sonotype is 470, but only 251 unique sonotypes in all labels, missing?"
      ]
    },
    {
      "cell_type": "markdown",
      "metadata": {
        "id": "Mg5Yp1FEtDEz",
        "colab_type": "text"
      },
      "source": [
        "# **Misc**\n",
        "\n",
        "## tests and others"
      ]
    },
    {
      "cell_type": "code",
      "metadata": {
        "id": "gziFiFH9Uk7s",
        "colab_type": "code",
        "outputId": "981afc48-2426-48a4-da96-5330b5852dc4",
        "colab": {
          "base_uri": "https://localhost:8080/",
          "height": 34
        }
      },
      "source": [
        "# number_type = np.max(sonotypes)\n",
        "# print(number_type)\n",
        "\n",
        "data = {}\n",
        "for i in range(len(specs_resized)):\n",
        "  if sonotypes[i] in data:\n",
        "    data[sonotypes[i]].append(specs_resized[i])\n",
        "  else:\n",
        "    data[sonotypes[i]] = [specs_resized[i]]\n",
        "\n",
        "print(\"dictionary size: %i\" % len(data))  "
      ],
      "execution_count": 25,
      "outputs": [
        {
          "output_type": "stream",
          "text": [
            "dictionary size: 251\n"
          ],
          "name": "stdout"
        }
      ]
    },
    {
      "cell_type": "markdown",
      "metadata": {
        "id": "mKV9jIZ0o_tq",
        "colab_type": "text"
      },
      "source": [
        "Resize spectrograms to 224 * 224 * 3, test whether look the same to the original spectrogram."
      ]
    },
    {
      "cell_type": "code",
      "metadata": {
        "id": "SqEUTVwyo_-Y",
        "colab_type": "code",
        "colab": {
          "base_uri": "https://localhost:8080/",
          "height": 303
        },
        "outputId": "dd68ca01-44c7-40f6-bd6d-583ccf7fe840"
      },
      "source": [
        "index = random.randint(0, len(freqs) - 1)\n",
        "print(\"spec number: %d\" % index)\n",
        "\n",
        "# file=cv2.cvtColor(specs[index].astype('uint8'), cv2.COLOR_BGR2RGB)\n",
        "file=cv2.cvtColor(specs[index].astype('float32'), cv2.COLOR_BGR2RGB)\n",
        "\n",
        "file=cv2.resize(file,(224,224))\n",
        "\n",
        "print(file.shape)\n",
        "plt.imshow(file[:,:,1])\n",
        "plt.show()"
      ],
      "execution_count": 93,
      "outputs": [
        {
          "output_type": "stream",
          "text": [
            "spec number: 615\n",
            "(224, 224, 3)\n"
          ],
          "name": "stdout"
        },
        {
          "output_type": "display_data",
          "data": {
            "image/png": "[encoded data removed]",
            "text/plain": [
              "<Figure size 432x288 with 1 Axes>"
            ]
          },
          "metadata": {
            "tags": []
          }
        }
      ]
    },
    {
      "cell_type": "code",
      "metadata": {
        "id": "eWBB5CvQtSoq",
        "colab_type": "code",
        "colab": {
          "base_uri": "https://localhost:8080/",
          "height": 384
        },
        "outputId": "3a8f7211-9afb-408c-89bc-3a75e0eae6ea"
      },
      "source": [
        "# compute the data for the spectrogram\n",
        "print(\"spec number: %d\" % index)\n",
        "ranFile = files[index]\n",
        "fileDir = \"Shared drives/Stethoscope for the rainforests/Sound data/EastKalimantan/13A/\"\n",
        "ranFilePath = fileDir + curFile\n",
        "audio, rate = sf.read(ranFilePath)\n",
        "freq, t, spec = scipy.signal.spectrogram(audio, rate)\n",
        "\n",
        "# get low and high freq index of the box\n",
        "boxTime = times[index]\n",
        "boxFreq = freqs[index]\n",
        "\n",
        "# get low and high freq index of the box\n",
        "low_freq = np.argmin(np.abs(freq - boxFreq[0]))\n",
        "high_freq = np.argmin(np.abs(freq - boxFreq[1]))\n",
        "# get start and end time of the box\n",
        "start = np.argmin(np.abs(t - boxTime[0]))\n",
        "end = np.argmin(np.abs(t - boxTime[1]))\n",
        "\n",
        "# adjust the params to cover the whole box\n",
        "if freq[low_freq] > boxFreq[0]: \n",
        "  low_freq = low_freq -1\n",
        "\n",
        "if freq[high_freq] < boxFreq[1]: \n",
        "  high_freq = high_freq + 1\n",
        "\n",
        "if t[start] > boxTime[0]: \n",
        "  start = start - 1\n",
        "\n",
        "if t[end] < boxTime[1]: \n",
        "  start = start + 1\n",
        "\n",
        "boxSpecPlt = spec[low_freq:high_freq, start:end]\n",
        "boxFreqPlt = freq[low_freq: high_freq]\n",
        "boxTPlt = t[start:end]\n",
        "\n",
        "# plot the spectrogram\n",
        "# set up\n",
        "plt.figure(figsize=(15, 5))\n",
        "plt.ylabel('Frequency [Hz]')\n",
        "plt.xlabel('Time [sec]')\n",
        "plt.title(\"Spectrogram for a random box\")\n",
        "\n",
        "# plot\n",
        "plt.pcolormesh(boxTPlt, boxFreqPlt, boxSpecPlt)\n",
        "plt.colorbar()"
      ],
      "execution_count": 94,
      "outputs": [
        {
          "output_type": "stream",
          "text": [
            "spec number: 615\n"
          ],
          "name": "stdout"
        },
        {
          "output_type": "execute_result",
          "data": {
            "text/plain": [
              "<matplotlib.colorbar.Colorbar at 0x7f287d2f10b8>"
            ]
          },
          "metadata": {
            "tags": []
          },
          "execution_count": 94
        },
        {
          "output_type": "display_data",
          "data": {
            "image/png": "[encoded data removed]",
            "text/plain": [
              "<Figure size 1080x360 with 2 Axes>"
            ]
          },
          "metadata": {
            "tags": []
          }
        }
      ]
    },
    {
      "cell_type": "markdown",
      "metadata": {
        "id": "4MHbmkwBUlYm",
        "colab_type": "text"
      },
      "source": [
        "Test whether the boxes are interpreted correctly"
      ]
    },
    {
      "cell_type": "code",
      "metadata": {
        "id": "0zzJ8oOrH-E-",
        "colab_type": "code",
        "colab": {}
      },
      "source": [
        "pltFile = usedFiles[0]\n",
        "filePath = fileDir + pltFile\n",
        "audio, rate = sf.read(filePath)\n",
        "\n",
        "# set up\n",
        "plt.figure(figsize=(30, 10))\n",
        "plt.ylabel('Frequency [Hz]')\n",
        "plt.xlabel('Time [sec]')\n",
        "plt.title(\"Spectrogram of the wav file: \" + pltFile)\n",
        "\n",
        "# plot spectrogram\n",
        "freq, t, spec = scipy.signal.spectrogram(audio, rate)\n",
        "plt.pcolormesh(t, freq, spec)\n",
        "# plt.pcolormesh(wholeT, wholeFreq, wholeSpec)\n",
        "\n",
        "# Create Rectangle patches\n",
        "for i in range(len(times)):\n",
        "   if(files[i] == pltFile):\n",
        "      boxTime = times[i]\n",
        "      boxFreq = freqs[i]\n",
        "\n",
        "      # get low and high freq index of the box\n",
        "      low_freq = np.argmin(np.abs(freq - boxFreq[0]))\n",
        "      high_freq = np.argmin(np.abs(freq - boxFreq[1]))\n",
        "      # get start and end time of the box\n",
        "      start = np.argmin(np.abs(t - boxTime[0]))\n",
        "      end = np.argmin(np.abs(t - boxTime[1]))\n",
        "\n",
        "      # adjust the params to cover the whole box\n",
        "      if freq[low_freq] > boxFreq[0]: \n",
        "        low_freq = low_freq -1\n",
        "\n",
        "      if freq[high_freq] < boxFreq[1]: \n",
        "        high_freq = high_freq + 1\n",
        "\n",
        "      if t[start] > boxTime[0]: \n",
        "        start = start - 1\n",
        "\n",
        "      if t[end] < boxTime[1]: \n",
        "        start = start + 1\n",
        "          \n",
        "      ymin = freq[low_freq]/freq[len(freq) -1]\n",
        "      ymax = freq[high_freq]/freq[len(freq) -1]\n",
        "      xmin = t[start]\n",
        "      xmax = t[end]\n",
        "      plt.axvspan(xmin, xmax, ymin=ymin, ymax=ymax, fill = False)"
      ],
      "execution_count": 0,
      "outputs": []
    },
    {
      "cell_type": "code",
      "metadata": {
        "id": "dl-Aiz1hVJCv",
        "colab_type": "code",
        "colab": {}
      },
      "source": [
        ""
      ],
      "execution_count": 0,
      "outputs": []
    }
  ]
}